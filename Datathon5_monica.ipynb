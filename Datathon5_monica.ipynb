{
 "cells": [
  {
   "cell_type": "code",
   "execution_count": 17,
   "metadata": {
    "colab": {
     "base_uri": "https://localhost:8080/"
    },
    "id": "0avUYaXfD8kd",
    "outputId": "6238f79b-14ca-4b51-bc3a-696e1574b96e"
   },
   "outputs": [
    {
     "name": "stdout",
     "output_type": "stream",
     "text": [
      "Requirement already satisfied: torch in /Users/monicaduong/anaconda3/lib/python3.11/site-packages (2.1.1)\n",
      "Requirement already satisfied: filelock in /Users/monicaduong/anaconda3/lib/python3.11/site-packages (from torch) (3.9.0)\n",
      "Requirement already satisfied: typing-extensions in /Users/monicaduong/anaconda3/lib/python3.11/site-packages (from torch) (4.7.1)\n",
      "Requirement already satisfied: sympy in /Users/monicaduong/anaconda3/lib/python3.11/site-packages (from torch) (1.11.1)\n",
      "Requirement already satisfied: networkx in /Users/monicaduong/anaconda3/lib/python3.11/site-packages (from torch) (3.1)\n",
      "Requirement already satisfied: jinja2 in /Users/monicaduong/anaconda3/lib/python3.11/site-packages (from torch) (3.1.2)\n",
      "Requirement already satisfied: fsspec in /Users/monicaduong/anaconda3/lib/python3.11/site-packages (from torch) (2023.4.0)\n",
      "Requirement already satisfied: MarkupSafe>=2.0 in /Users/monicaduong/anaconda3/lib/python3.11/site-packages (from jinja2->torch) (2.1.1)\n",
      "Requirement already satisfied: mpmath>=0.19 in /Users/monicaduong/anaconda3/lib/python3.11/site-packages (from sympy->torch) (1.3.0)\n",
      "Requirement already satisfied: category_encoders in /Users/monicaduong/anaconda3/lib/python3.11/site-packages (2.6.3)\n",
      "Requirement already satisfied: numpy>=1.14.0 in /Users/monicaduong/anaconda3/lib/python3.11/site-packages (from category_encoders) (1.24.3)\n",
      "Requirement already satisfied: scikit-learn>=0.20.0 in /Users/monicaduong/anaconda3/lib/python3.11/site-packages (from category_encoders) (1.3.0)\n",
      "Requirement already satisfied: scipy>=1.0.0 in /Users/monicaduong/anaconda3/lib/python3.11/site-packages (from category_encoders) (1.11.1)\n",
      "Requirement already satisfied: statsmodels>=0.9.0 in /Users/monicaduong/anaconda3/lib/python3.11/site-packages (from category_encoders) (0.14.0)\n",
      "Requirement already satisfied: pandas>=1.0.5 in /Users/monicaduong/anaconda3/lib/python3.11/site-packages (from category_encoders) (2.0.3)\n",
      "Requirement already satisfied: patsy>=0.5.1 in /Users/monicaduong/anaconda3/lib/python3.11/site-packages (from category_encoders) (0.5.3)\n",
      "Requirement already satisfied: python-dateutil>=2.8.2 in /Users/monicaduong/anaconda3/lib/python3.11/site-packages (from pandas>=1.0.5->category_encoders) (2.8.2)\n",
      "Requirement already satisfied: pytz>=2020.1 in /Users/monicaduong/anaconda3/lib/python3.11/site-packages (from pandas>=1.0.5->category_encoders) (2023.3.post1)\n",
      "Requirement already satisfied: tzdata>=2022.1 in /Users/monicaduong/anaconda3/lib/python3.11/site-packages (from pandas>=1.0.5->category_encoders) (2023.3)\n",
      "Requirement already satisfied: six in /Users/monicaduong/anaconda3/lib/python3.11/site-packages (from patsy>=0.5.1->category_encoders) (1.16.0)\n",
      "Requirement already satisfied: joblib>=1.1.1 in /Users/monicaduong/anaconda3/lib/python3.11/site-packages (from scikit-learn>=0.20.0->category_encoders) (1.2.0)\n",
      "Requirement already satisfied: threadpoolctl>=2.0.0 in /Users/monicaduong/anaconda3/lib/python3.11/site-packages (from scikit-learn>=0.20.0->category_encoders) (2.2.0)\n",
      "Requirement already satisfied: packaging>=21.3 in /Users/monicaduong/anaconda3/lib/python3.11/site-packages (from statsmodels>=0.9.0->category_encoders) (23.1)\n",
      "Requirement already satisfied: imbalanced-learn in /Users/monicaduong/anaconda3/lib/python3.11/site-packages (0.11.0)\n",
      "Requirement already satisfied: numpy>=1.17.3 in /Users/monicaduong/anaconda3/lib/python3.11/site-packages (from imbalanced-learn) (1.24.3)\n",
      "Requirement already satisfied: scipy>=1.5.0 in /Users/monicaduong/anaconda3/lib/python3.11/site-packages (from imbalanced-learn) (1.11.1)\n",
      "Requirement already satisfied: scikit-learn>=1.0.2 in /Users/monicaduong/anaconda3/lib/python3.11/site-packages (from imbalanced-learn) (1.3.0)\n",
      "Requirement already satisfied: joblib>=1.1.1 in /Users/monicaduong/anaconda3/lib/python3.11/site-packages (from imbalanced-learn) (1.2.0)\n",
      "Requirement already satisfied: threadpoolctl>=2.0.0 in /Users/monicaduong/anaconda3/lib/python3.11/site-packages (from imbalanced-learn) (2.2.0)\n"
     ]
    }
   ],
   "source": [
    "# importing PyTorch library as 't' for convenience\n",
    "!pip install torch\n",
    "\n",
    "import torch as t\n",
    "\n",
    "# importing other necessary libraries\n",
    "import numpy as np\n",
    "from torch.nn.functional import sigmoid, relu, tanh\n",
    "from torch.optim import Adam\n",
    "import matplotlib.pyplot as plt\n",
    "import pandas as pd\n",
    "from sklearn.preprocessing import StandardScaler\n",
    "from torch.utils.data import TensorDataset, DataLoader\n",
    "\n",
    "from torch.nn import Tanh, Linear, Sequential, Sigmoid, Dropout\n",
    "\n",
    "# importing PyTorch modules for building neural networks\n",
    "from torch.nn import Tanh, Linear, Sequential, Sigmoid, Dropout\n",
    "\n",
    "!pip install category_encoders\n",
    "import pandas as pd\n",
    "import numpy as np\n",
    "from sklearn.linear_model import LogisticRegression\n",
    "from sklearn.metrics import roc_auc_score, accuracy_score\n",
    "import warnings\n",
    "from sklearn.metrics import classification_report, confusion_matrix\n",
    "# from sklearn.preprocessing import TargetEncoder\n",
    "from category_encoders import TargetEncoder\n",
    "import plotly.express as px\n",
    "import seaborn as sns\n",
    "import matplotlib.pyplot as plt\n",
    "from sklearn.discriminant_analysis import StandardScaler\n",
    "import pandas as pd\n",
    "from sklearn.experimental import enable_iterative_imputer\n",
    "from sklearn.impute import IterativeImputer\n",
    "from sklearn.metrics import RocCurveDisplay, auc, roc_curve\n",
    "\n",
    "!pip install -U imbalanced-learn\n",
    "\n",
    "from imblearn.under_sampling import RandomUnderSampler\n",
    "\n",
    "\n",
    "warnings.filterwarnings('ignore')"
   ]
  },
  {
   "cell_type": "code",
   "execution_count": 18,
   "metadata": {
    "colab": {
     "base_uri": "https://localhost:8080/",
     "height": 206
    },
    "id": "LA-KzH3TIqAr",
    "outputId": "c282ed86-90ec-4114-def6-7d834ad8c056"
   },
   "outputs": [
    {
     "data": {
      "text/html": [
       "<div>\n",
       "<style scoped>\n",
       "    .dataframe tbody tr th:only-of-type {\n",
       "        vertical-align: middle;\n",
       "    }\n",
       "\n",
       "    .dataframe tbody tr th {\n",
       "        vertical-align: top;\n",
       "    }\n",
       "\n",
       "    .dataframe thead th {\n",
       "        text-align: right;\n",
       "    }\n",
       "</style>\n",
       "<table border=\"1\" class=\"dataframe\">\n",
       "  <thead>\n",
       "    <tr style=\"text-align: right;\">\n",
       "      <th></th>\n",
       "      <th>alx</th>\n",
       "      <th>aly</th>\n",
       "      <th>alz</th>\n",
       "      <th>glx</th>\n",
       "      <th>gly</th>\n",
       "      <th>glz</th>\n",
       "      <th>arx</th>\n",
       "      <th>ary</th>\n",
       "      <th>arz</th>\n",
       "      <th>grx</th>\n",
       "      <th>gry</th>\n",
       "      <th>grz</th>\n",
       "      <th>Activity</th>\n",
       "      <th>subject</th>\n",
       "    </tr>\n",
       "  </thead>\n",
       "  <tbody>\n",
       "    <tr>\n",
       "      <th>0</th>\n",
       "      <td>2.1849</td>\n",
       "      <td>-9.6967</td>\n",
       "      <td>0.63077</td>\n",
       "      <td>0.103900</td>\n",
       "      <td>-0.84053</td>\n",
       "      <td>-0.68762</td>\n",
       "      <td>-8.6499</td>\n",
       "      <td>-4.5781</td>\n",
       "      <td>0.187760</td>\n",
       "      <td>-0.44902</td>\n",
       "      <td>-1.0103</td>\n",
       "      <td>0.034483</td>\n",
       "      <td>0</td>\n",
       "      <td>subject1</td>\n",
       "    </tr>\n",
       "    <tr>\n",
       "      <th>1</th>\n",
       "      <td>2.3876</td>\n",
       "      <td>-9.5080</td>\n",
       "      <td>0.68389</td>\n",
       "      <td>0.085343</td>\n",
       "      <td>-0.83865</td>\n",
       "      <td>-0.68369</td>\n",
       "      <td>-8.6275</td>\n",
       "      <td>-4.3198</td>\n",
       "      <td>0.023595</td>\n",
       "      <td>-0.44902</td>\n",
       "      <td>-1.0103</td>\n",
       "      <td>0.034483</td>\n",
       "      <td>0</td>\n",
       "      <td>subject1</td>\n",
       "    </tr>\n",
       "    <tr>\n",
       "      <th>2</th>\n",
       "      <td>2.4086</td>\n",
       "      <td>-9.5674</td>\n",
       "      <td>0.68113</td>\n",
       "      <td>0.085343</td>\n",
       "      <td>-0.83865</td>\n",
       "      <td>-0.68369</td>\n",
       "      <td>-8.5055</td>\n",
       "      <td>-4.2772</td>\n",
       "      <td>0.275720</td>\n",
       "      <td>-0.44902</td>\n",
       "      <td>-1.0103</td>\n",
       "      <td>0.034483</td>\n",
       "      <td>0</td>\n",
       "      <td>subject1</td>\n",
       "    </tr>\n",
       "    <tr>\n",
       "      <th>3</th>\n",
       "      <td>2.1814</td>\n",
       "      <td>-9.4301</td>\n",
       "      <td>0.55031</td>\n",
       "      <td>0.085343</td>\n",
       "      <td>-0.83865</td>\n",
       "      <td>-0.68369</td>\n",
       "      <td>-8.6279</td>\n",
       "      <td>-4.3163</td>\n",
       "      <td>0.367520</td>\n",
       "      <td>-0.45686</td>\n",
       "      <td>-1.0082</td>\n",
       "      <td>0.025862</td>\n",
       "      <td>0</td>\n",
       "      <td>subject1</td>\n",
       "    </tr>\n",
       "    <tr>\n",
       "      <th>4</th>\n",
       "      <td>2.4173</td>\n",
       "      <td>-9.3889</td>\n",
       "      <td>0.71098</td>\n",
       "      <td>0.085343</td>\n",
       "      <td>-0.83865</td>\n",
       "      <td>-0.68369</td>\n",
       "      <td>-8.7008</td>\n",
       "      <td>-4.1459</td>\n",
       "      <td>0.407290</td>\n",
       "      <td>-0.45686</td>\n",
       "      <td>-1.0082</td>\n",
       "      <td>0.025862</td>\n",
       "      <td>0</td>\n",
       "      <td>subject1</td>\n",
       "    </tr>\n",
       "  </tbody>\n",
       "</table>\n",
       "</div>"
      ],
      "text/plain": [
       "      alx     aly      alz       glx      gly      glz     arx     ary  \\\n",
       "0  2.1849 -9.6967  0.63077  0.103900 -0.84053 -0.68762 -8.6499 -4.5781   \n",
       "1  2.3876 -9.5080  0.68389  0.085343 -0.83865 -0.68369 -8.6275 -4.3198   \n",
       "2  2.4086 -9.5674  0.68113  0.085343 -0.83865 -0.68369 -8.5055 -4.2772   \n",
       "3  2.1814 -9.4301  0.55031  0.085343 -0.83865 -0.68369 -8.6279 -4.3163   \n",
       "4  2.4173 -9.3889  0.71098  0.085343 -0.83865 -0.68369 -8.7008 -4.1459   \n",
       "\n",
       "        arz      grx     gry       grz  Activity   subject  \n",
       "0  0.187760 -0.44902 -1.0103  0.034483         0  subject1  \n",
       "1  0.023595 -0.44902 -1.0103  0.034483         0  subject1  \n",
       "2  0.275720 -0.44902 -1.0103  0.034483         0  subject1  \n",
       "3  0.367520 -0.45686 -1.0082  0.025862         0  subject1  \n",
       "4  0.407290 -0.45686 -1.0082  0.025862         0  subject1  "
      ]
     },
     "execution_count": 18,
     "metadata": {},
     "output_type": "execute_result"
    }
   ],
   "source": [
    "data = pd.read_csv('mhealth.csv')\n",
    "data.head()"
   ]
  },
  {
   "cell_type": "code",
   "execution_count": 5,
   "metadata": {
    "colab": {
     "base_uri": "https://localhost:8080/"
    },
    "id": "Jsanz9n1IwE7",
    "outputId": "df620e15-bea1-4fda-ded4-39d008b8507f"
   },
   "outputs": [
    {
     "data": {
      "text/plain": [
       "alx         float64\n",
       "aly         float64\n",
       "alz         float64\n",
       "glx         float64\n",
       "gly         float64\n",
       "glz         float64\n",
       "arx         float64\n",
       "ary         float64\n",
       "arz         float64\n",
       "grx         float64\n",
       "gry         float64\n",
       "grz         float64\n",
       "Activity      int64\n",
       "subject      object\n",
       "dtype: object"
      ]
     },
     "execution_count": 5,
     "metadata": {},
     "output_type": "execute_result"
    }
   ],
   "source": [
    "data.dtypes"
   ]
  },
  {
   "cell_type": "code",
   "execution_count": null,
   "metadata": {
    "colab": {
     "base_uri": "https://localhost:8080/"
    },
    "id": "_CRTSbrrL_UJ",
    "outputId": "63485b53-a319-499d-950e-b051e009f82e"
   },
   "outputs": [
    {
     "name": "stdout",
     "output_type": "stream",
     "text": [
      "(999999, 14)\n"
     ]
    }
   ],
   "source": [
    "print(data.shape)"
   ]
  },
  {
   "cell_type": "code",
   "execution_count": null,
   "metadata": {
    "colab": {
     "base_uri": "https://localhost:8080/"
    },
    "id": "vsRCGNkIJ33e",
    "outputId": "4eb6cfbb-bbac-4238-f11b-dd0eabb2d865"
   },
   "outputs": [
    {
     "data": {
      "text/plain": [
       "alx         0\n",
       "aly         0\n",
       "alz         0\n",
       "glx         0\n",
       "gly         0\n",
       "glz         0\n",
       "arx         0\n",
       "ary         0\n",
       "arz         0\n",
       "grx         0\n",
       "gry         0\n",
       "grz         0\n",
       "Activity    0\n",
       "subject     0\n",
       "dtype: int64"
      ]
     },
     "execution_count": 5,
     "metadata": {},
     "output_type": "execute_result"
    }
   ],
   "source": [
    "pd.set_option('display.max_rows', None)\n",
    "missing_value_counts = data.isnull().sum()\n",
    "missing_value_counts"
   ]
  },
  {
   "cell_type": "code",
   "execution_count": 21,
   "metadata": {
    "colab": {
     "base_uri": "https://localhost:8080/",
     "height": 367
    },
    "id": "gn4ALdz43kvF",
    "outputId": "4bc8bc03-d512-4d3e-d4b9-d9609fa10492"
   },
   "outputs": [
    {
     "data": {
      "application/vnd.plotly.v1+json": {
       "config": {
        "plotlyServerURL": "https://plot.ly"
       },
       "data": [
        {
         "domain": {
          "x": [
           0,
           1
          ],
          "y": [
           0,
           1
          ]
         },
         "hole": 0.5,
         "hovertemplate": "label=%{label}<br>value=%{value}<extra></extra>",
         "labels": [
          0,
          1,
          2,
          3,
          4,
          9,
          10,
          11,
          5,
          7,
          8,
          6,
          12
         ],
         "legendgroup": "",
         "name": "",
         "showlegend": true,
         "type": "pie",
         "values": [
          720946,
          27648,
          25406,
          24576,
          24576,
          24576,
          24576,
          24576,
          24576,
          23809,
          23501,
          22990,
          8243
         ]
        }
       ],
       "layout": {
        "height": 350,
        "legend": {
         "orientation": "v",
         "title": {
          "text": "Activity"
         },
         "tracegroupgap": 0,
         "x": 1.05,
         "xanchor": "left",
         "y": 0.5,
         "yanchor": "top"
        },
        "margin": {
         "b": 0,
         "l": 0,
         "r": 0,
         "t": 50
        },
        "piecolorway": [
         "#a3416c",
         "#ebc898"
        ],
        "template": {
         "data": {
          "bar": [
           {
            "error_x": {
             "color": "#2a3f5f"
            },
            "error_y": {
             "color": "#2a3f5f"
            },
            "marker": {
             "line": {
              "color": "#E5ECF6",
              "width": 0.5
             },
             "pattern": {
              "fillmode": "overlay",
              "size": 10,
              "solidity": 0.2
             }
            },
            "type": "bar"
           }
          ],
          "barpolar": [
           {
            "marker": {
             "line": {
              "color": "#E5ECF6",
              "width": 0.5
             },
             "pattern": {
              "fillmode": "overlay",
              "size": 10,
              "solidity": 0.2
             }
            },
            "type": "barpolar"
           }
          ],
          "carpet": [
           {
            "aaxis": {
             "endlinecolor": "#2a3f5f",
             "gridcolor": "white",
             "linecolor": "white",
             "minorgridcolor": "white",
             "startlinecolor": "#2a3f5f"
            },
            "baxis": {
             "endlinecolor": "#2a3f5f",
             "gridcolor": "white",
             "linecolor": "white",
             "minorgridcolor": "white",
             "startlinecolor": "#2a3f5f"
            },
            "type": "carpet"
           }
          ],
          "choropleth": [
           {
            "colorbar": {
             "outlinewidth": 0,
             "ticks": ""
            },
            "type": "choropleth"
           }
          ],
          "contour": [
           {
            "colorbar": {
             "outlinewidth": 0,
             "ticks": ""
            },
            "colorscale": [
             [
              0,
              "#0d0887"
             ],
             [
              0.1111111111111111,
              "#46039f"
             ],
             [
              0.2222222222222222,
              "#7201a8"
             ],
             [
              0.3333333333333333,
              "#9c179e"
             ],
             [
              0.4444444444444444,
              "#bd3786"
             ],
             [
              0.5555555555555556,
              "#d8576b"
             ],
             [
              0.6666666666666666,
              "#ed7953"
             ],
             [
              0.7777777777777778,
              "#fb9f3a"
             ],
             [
              0.8888888888888888,
              "#fdca26"
             ],
             [
              1,
              "#f0f921"
             ]
            ],
            "type": "contour"
           }
          ],
          "contourcarpet": [
           {
            "colorbar": {
             "outlinewidth": 0,
             "ticks": ""
            },
            "type": "contourcarpet"
           }
          ],
          "heatmap": [
           {
            "colorbar": {
             "outlinewidth": 0,
             "ticks": ""
            },
            "colorscale": [
             [
              0,
              "#0d0887"
             ],
             [
              0.1111111111111111,
              "#46039f"
             ],
             [
              0.2222222222222222,
              "#7201a8"
             ],
             [
              0.3333333333333333,
              "#9c179e"
             ],
             [
              0.4444444444444444,
              "#bd3786"
             ],
             [
              0.5555555555555556,
              "#d8576b"
             ],
             [
              0.6666666666666666,
              "#ed7953"
             ],
             [
              0.7777777777777778,
              "#fb9f3a"
             ],
             [
              0.8888888888888888,
              "#fdca26"
             ],
             [
              1,
              "#f0f921"
             ]
            ],
            "type": "heatmap"
           }
          ],
          "heatmapgl": [
           {
            "colorbar": {
             "outlinewidth": 0,
             "ticks": ""
            },
            "colorscale": [
             [
              0,
              "#0d0887"
             ],
             [
              0.1111111111111111,
              "#46039f"
             ],
             [
              0.2222222222222222,
              "#7201a8"
             ],
             [
              0.3333333333333333,
              "#9c179e"
             ],
             [
              0.4444444444444444,
              "#bd3786"
             ],
             [
              0.5555555555555556,
              "#d8576b"
             ],
             [
              0.6666666666666666,
              "#ed7953"
             ],
             [
              0.7777777777777778,
              "#fb9f3a"
             ],
             [
              0.8888888888888888,
              "#fdca26"
             ],
             [
              1,
              "#f0f921"
             ]
            ],
            "type": "heatmapgl"
           }
          ],
          "histogram": [
           {
            "marker": {
             "pattern": {
              "fillmode": "overlay",
              "size": 10,
              "solidity": 0.2
             }
            },
            "type": "histogram"
           }
          ],
          "histogram2d": [
           {
            "colorbar": {
             "outlinewidth": 0,
             "ticks": ""
            },
            "colorscale": [
             [
              0,
              "#0d0887"
             ],
             [
              0.1111111111111111,
              "#46039f"
             ],
             [
              0.2222222222222222,
              "#7201a8"
             ],
             [
              0.3333333333333333,
              "#9c179e"
             ],
             [
              0.4444444444444444,
              "#bd3786"
             ],
             [
              0.5555555555555556,
              "#d8576b"
             ],
             [
              0.6666666666666666,
              "#ed7953"
             ],
             [
              0.7777777777777778,
              "#fb9f3a"
             ],
             [
              0.8888888888888888,
              "#fdca26"
             ],
             [
              1,
              "#f0f921"
             ]
            ],
            "type": "histogram2d"
           }
          ],
          "histogram2dcontour": [
           {
            "colorbar": {
             "outlinewidth": 0,
             "ticks": ""
            },
            "colorscale": [
             [
              0,
              "#0d0887"
             ],
             [
              0.1111111111111111,
              "#46039f"
             ],
             [
              0.2222222222222222,
              "#7201a8"
             ],
             [
              0.3333333333333333,
              "#9c179e"
             ],
             [
              0.4444444444444444,
              "#bd3786"
             ],
             [
              0.5555555555555556,
              "#d8576b"
             ],
             [
              0.6666666666666666,
              "#ed7953"
             ],
             [
              0.7777777777777778,
              "#fb9f3a"
             ],
             [
              0.8888888888888888,
              "#fdca26"
             ],
             [
              1,
              "#f0f921"
             ]
            ],
            "type": "histogram2dcontour"
           }
          ],
          "mesh3d": [
           {
            "colorbar": {
             "outlinewidth": 0,
             "ticks": ""
            },
            "type": "mesh3d"
           }
          ],
          "parcoords": [
           {
            "line": {
             "colorbar": {
              "outlinewidth": 0,
              "ticks": ""
             }
            },
            "type": "parcoords"
           }
          ],
          "pie": [
           {
            "automargin": true,
            "type": "pie"
           }
          ],
          "scatter": [
           {
            "fillpattern": {
             "fillmode": "overlay",
             "size": 10,
             "solidity": 0.2
            },
            "type": "scatter"
           }
          ],
          "scatter3d": [
           {
            "line": {
             "colorbar": {
              "outlinewidth": 0,
              "ticks": ""
             }
            },
            "marker": {
             "colorbar": {
              "outlinewidth": 0,
              "ticks": ""
             }
            },
            "type": "scatter3d"
           }
          ],
          "scattercarpet": [
           {
            "marker": {
             "colorbar": {
              "outlinewidth": 0,
              "ticks": ""
             }
            },
            "type": "scattercarpet"
           }
          ],
          "scattergeo": [
           {
            "marker": {
             "colorbar": {
              "outlinewidth": 0,
              "ticks": ""
             }
            },
            "type": "scattergeo"
           }
          ],
          "scattergl": [
           {
            "marker": {
             "colorbar": {
              "outlinewidth": 0,
              "ticks": ""
             }
            },
            "type": "scattergl"
           }
          ],
          "scattermapbox": [
           {
            "marker": {
             "colorbar": {
              "outlinewidth": 0,
              "ticks": ""
             }
            },
            "type": "scattermapbox"
           }
          ],
          "scatterpolar": [
           {
            "marker": {
             "colorbar": {
              "outlinewidth": 0,
              "ticks": ""
             }
            },
            "type": "scatterpolar"
           }
          ],
          "scatterpolargl": [
           {
            "marker": {
             "colorbar": {
              "outlinewidth": 0,
              "ticks": ""
             }
            },
            "type": "scatterpolargl"
           }
          ],
          "scatterternary": [
           {
            "marker": {
             "colorbar": {
              "outlinewidth": 0,
              "ticks": ""
             }
            },
            "type": "scatterternary"
           }
          ],
          "surface": [
           {
            "colorbar": {
             "outlinewidth": 0,
             "ticks": ""
            },
            "colorscale": [
             [
              0,
              "#0d0887"
             ],
             [
              0.1111111111111111,
              "#46039f"
             ],
             [
              0.2222222222222222,
              "#7201a8"
             ],
             [
              0.3333333333333333,
              "#9c179e"
             ],
             [
              0.4444444444444444,
              "#bd3786"
             ],
             [
              0.5555555555555556,
              "#d8576b"
             ],
             [
              0.6666666666666666,
              "#ed7953"
             ],
             [
              0.7777777777777778,
              "#fb9f3a"
             ],
             [
              0.8888888888888888,
              "#fdca26"
             ],
             [
              1,
              "#f0f921"
             ]
            ],
            "type": "surface"
           }
          ],
          "table": [
           {
            "cells": {
             "fill": {
              "color": "#EBF0F8"
             },
             "line": {
              "color": "white"
             }
            },
            "header": {
             "fill": {
              "color": "#C8D4E3"
             },
             "line": {
              "color": "white"
             }
            },
            "type": "table"
           }
          ]
         },
         "layout": {
          "annotationdefaults": {
           "arrowcolor": "#2a3f5f",
           "arrowhead": 0,
           "arrowwidth": 1
          },
          "autotypenumbers": "strict",
          "coloraxis": {
           "colorbar": {
            "outlinewidth": 0,
            "ticks": ""
           }
          },
          "colorscale": {
           "diverging": [
            [
             0,
             "#8e0152"
            ],
            [
             0.1,
             "#c51b7d"
            ],
            [
             0.2,
             "#de77ae"
            ],
            [
             0.3,
             "#f1b6da"
            ],
            [
             0.4,
             "#fde0ef"
            ],
            [
             0.5,
             "#f7f7f7"
            ],
            [
             0.6,
             "#e6f5d0"
            ],
            [
             0.7,
             "#b8e186"
            ],
            [
             0.8,
             "#7fbc41"
            ],
            [
             0.9,
             "#4d9221"
            ],
            [
             1,
             "#276419"
            ]
           ],
           "sequential": [
            [
             0,
             "#0d0887"
            ],
            [
             0.1111111111111111,
             "#46039f"
            ],
            [
             0.2222222222222222,
             "#7201a8"
            ],
            [
             0.3333333333333333,
             "#9c179e"
            ],
            [
             0.4444444444444444,
             "#bd3786"
            ],
            [
             0.5555555555555556,
             "#d8576b"
            ],
            [
             0.6666666666666666,
             "#ed7953"
            ],
            [
             0.7777777777777778,
             "#fb9f3a"
            ],
            [
             0.8888888888888888,
             "#fdca26"
            ],
            [
             1,
             "#f0f921"
            ]
           ],
           "sequentialminus": [
            [
             0,
             "#0d0887"
            ],
            [
             0.1111111111111111,
             "#46039f"
            ],
            [
             0.2222222222222222,
             "#7201a8"
            ],
            [
             0.3333333333333333,
             "#9c179e"
            ],
            [
             0.4444444444444444,
             "#bd3786"
            ],
            [
             0.5555555555555556,
             "#d8576b"
            ],
            [
             0.6666666666666666,
             "#ed7953"
            ],
            [
             0.7777777777777778,
             "#fb9f3a"
            ],
            [
             0.8888888888888888,
             "#fdca26"
            ],
            [
             1,
             "#f0f921"
            ]
           ]
          },
          "colorway": [
           "#636efa",
           "#EF553B",
           "#00cc96",
           "#ab63fa",
           "#FFA15A",
           "#19d3f3",
           "#FF6692",
           "#B6E880",
           "#FF97FF",
           "#FECB52"
          ],
          "font": {
           "color": "#2a3f5f"
          },
          "geo": {
           "bgcolor": "white",
           "lakecolor": "white",
           "landcolor": "#E5ECF6",
           "showlakes": true,
           "showland": true,
           "subunitcolor": "white"
          },
          "hoverlabel": {
           "align": "left"
          },
          "hovermode": "closest",
          "mapbox": {
           "style": "light"
          },
          "paper_bgcolor": "white",
          "plot_bgcolor": "#E5ECF6",
          "polar": {
           "angularaxis": {
            "gridcolor": "white",
            "linecolor": "white",
            "ticks": ""
           },
           "bgcolor": "#E5ECF6",
           "radialaxis": {
            "gridcolor": "white",
            "linecolor": "white",
            "ticks": ""
           }
          },
          "scene": {
           "xaxis": {
            "backgroundcolor": "#E5ECF6",
            "gridcolor": "white",
            "gridwidth": 2,
            "linecolor": "white",
            "showbackground": true,
            "ticks": "",
            "zerolinecolor": "white"
           },
           "yaxis": {
            "backgroundcolor": "#E5ECF6",
            "gridcolor": "white",
            "gridwidth": 2,
            "linecolor": "white",
            "showbackground": true,
            "ticks": "",
            "zerolinecolor": "white"
           },
           "zaxis": {
            "backgroundcolor": "#E5ECF6",
            "gridcolor": "white",
            "gridwidth": 2,
            "linecolor": "white",
            "showbackground": true,
            "ticks": "",
            "zerolinecolor": "white"
           }
          },
          "shapedefaults": {
           "line": {
            "color": "#2a3f5f"
           }
          },
          "ternary": {
           "aaxis": {
            "gridcolor": "white",
            "linecolor": "white",
            "ticks": ""
           },
           "baxis": {
            "gridcolor": "white",
            "linecolor": "white",
            "ticks": ""
           },
           "bgcolor": "#E5ECF6",
           "caxis": {
            "gridcolor": "white",
            "linecolor": "white",
            "ticks": ""
           }
          },
          "title": {
           "x": 0.05
          },
          "xaxis": {
           "automargin": true,
           "gridcolor": "white",
           "linecolor": "white",
           "ticks": "",
           "title": {
            "standoff": 15
           },
           "zerolinecolor": "white",
           "zerolinewidth": 2
          },
          "yaxis": {
           "automargin": true,
           "gridcolor": "white",
           "linecolor": "white",
           "ticks": "",
           "title": {
            "standoff": 15
           },
           "zerolinecolor": "white",
           "zerolinewidth": 2
          }
         }
        },
        "title": {
         "font": {
          "size": 16
         },
         "text": "Distribution of Classes in \"Activity\"",
         "x": 0.45,
         "xanchor": "center",
         "y": 0.95,
         "yanchor": "top"
        },
        "width": 500
       }
      },
      "text/html": [
       "<div>                            <div id=\"084151ad-2793-4794-b7dd-ea39dbcdf5ff\" class=\"plotly-graph-div\" style=\"height:350px; width:500px;\"></div>            <script type=\"text/javascript\">                require([\"plotly\"], function(Plotly) {                    window.PLOTLYENV=window.PLOTLYENV || {};                                    if (document.getElementById(\"084151ad-2793-4794-b7dd-ea39dbcdf5ff\")) {                    Plotly.newPlot(                        \"084151ad-2793-4794-b7dd-ea39dbcdf5ff\",                        [{\"domain\":{\"x\":[0.0,1.0],\"y\":[0.0,1.0]},\"hole\":0.5,\"hovertemplate\":\"label=%{label}<br>value=%{value}<extra></extra>\",\"labels\":[0,1,2,3,4,9,10,11,5,7,8,6,12],\"legendgroup\":\"\",\"name\":\"\",\"showlegend\":true,\"values\":[720946,27648,25406,24576,24576,24576,24576,24576,24576,23809,23501,22990,8243],\"type\":\"pie\"}],                        {\"template\":{\"data\":{\"histogram2dcontour\":[{\"type\":\"histogram2dcontour\",\"colorbar\":{\"outlinewidth\":0,\"ticks\":\"\"},\"colorscale\":[[0.0,\"#0d0887\"],[0.1111111111111111,\"#46039f\"],[0.2222222222222222,\"#7201a8\"],[0.3333333333333333,\"#9c179e\"],[0.4444444444444444,\"#bd3786\"],[0.5555555555555556,\"#d8576b\"],[0.6666666666666666,\"#ed7953\"],[0.7777777777777778,\"#fb9f3a\"],[0.8888888888888888,\"#fdca26\"],[1.0,\"#f0f921\"]]}],\"choropleth\":[{\"type\":\"choropleth\",\"colorbar\":{\"outlinewidth\":0,\"ticks\":\"\"}}],\"histogram2d\":[{\"type\":\"histogram2d\",\"colorbar\":{\"outlinewidth\":0,\"ticks\":\"\"},\"colorscale\":[[0.0,\"#0d0887\"],[0.1111111111111111,\"#46039f\"],[0.2222222222222222,\"#7201a8\"],[0.3333333333333333,\"#9c179e\"],[0.4444444444444444,\"#bd3786\"],[0.5555555555555556,\"#d8576b\"],[0.6666666666666666,\"#ed7953\"],[0.7777777777777778,\"#fb9f3a\"],[0.8888888888888888,\"#fdca26\"],[1.0,\"#f0f921\"]]}],\"heatmap\":[{\"type\":\"heatmap\",\"colorbar\":{\"outlinewidth\":0,\"ticks\":\"\"},\"colorscale\":[[0.0,\"#0d0887\"],[0.1111111111111111,\"#46039f\"],[0.2222222222222222,\"#7201a8\"],[0.3333333333333333,\"#9c179e\"],[0.4444444444444444,\"#bd3786\"],[0.5555555555555556,\"#d8576b\"],[0.6666666666666666,\"#ed7953\"],[0.7777777777777778,\"#fb9f3a\"],[0.8888888888888888,\"#fdca26\"],[1.0,\"#f0f921\"]]}],\"heatmapgl\":[{\"type\":\"heatmapgl\",\"colorbar\":{\"outlinewidth\":0,\"ticks\":\"\"},\"colorscale\":[[0.0,\"#0d0887\"],[0.1111111111111111,\"#46039f\"],[0.2222222222222222,\"#7201a8\"],[0.3333333333333333,\"#9c179e\"],[0.4444444444444444,\"#bd3786\"],[0.5555555555555556,\"#d8576b\"],[0.6666666666666666,\"#ed7953\"],[0.7777777777777778,\"#fb9f3a\"],[0.8888888888888888,\"#fdca26\"],[1.0,\"#f0f921\"]]}],\"contourcarpet\":[{\"type\":\"contourcarpet\",\"colorbar\":{\"outlinewidth\":0,\"ticks\":\"\"}}],\"contour\":[{\"type\":\"contour\",\"colorbar\":{\"outlinewidth\":0,\"ticks\":\"\"},\"colorscale\":[[0.0,\"#0d0887\"],[0.1111111111111111,\"#46039f\"],[0.2222222222222222,\"#7201a8\"],[0.3333333333333333,\"#9c179e\"],[0.4444444444444444,\"#bd3786\"],[0.5555555555555556,\"#d8576b\"],[0.6666666666666666,\"#ed7953\"],[0.7777777777777778,\"#fb9f3a\"],[0.8888888888888888,\"#fdca26\"],[1.0,\"#f0f921\"]]}],\"surface\":[{\"type\":\"surface\",\"colorbar\":{\"outlinewidth\":0,\"ticks\":\"\"},\"colorscale\":[[0.0,\"#0d0887\"],[0.1111111111111111,\"#46039f\"],[0.2222222222222222,\"#7201a8\"],[0.3333333333333333,\"#9c179e\"],[0.4444444444444444,\"#bd3786\"],[0.5555555555555556,\"#d8576b\"],[0.6666666666666666,\"#ed7953\"],[0.7777777777777778,\"#fb9f3a\"],[0.8888888888888888,\"#fdca26\"],[1.0,\"#f0f921\"]]}],\"mesh3d\":[{\"type\":\"mesh3d\",\"colorbar\":{\"outlinewidth\":0,\"ticks\":\"\"}}],\"scatter\":[{\"fillpattern\":{\"fillmode\":\"overlay\",\"size\":10,\"solidity\":0.2},\"type\":\"scatter\"}],\"parcoords\":[{\"type\":\"parcoords\",\"line\":{\"colorbar\":{\"outlinewidth\":0,\"ticks\":\"\"}}}],\"scatterpolargl\":[{\"type\":\"scatterpolargl\",\"marker\":{\"colorbar\":{\"outlinewidth\":0,\"ticks\":\"\"}}}],\"bar\":[{\"error_x\":{\"color\":\"#2a3f5f\"},\"error_y\":{\"color\":\"#2a3f5f\"},\"marker\":{\"line\":{\"color\":\"#E5ECF6\",\"width\":0.5},\"pattern\":{\"fillmode\":\"overlay\",\"size\":10,\"solidity\":0.2}},\"type\":\"bar\"}],\"scattergeo\":[{\"type\":\"scattergeo\",\"marker\":{\"colorbar\":{\"outlinewidth\":0,\"ticks\":\"\"}}}],\"scatterpolar\":[{\"type\":\"scatterpolar\",\"marker\":{\"colorbar\":{\"outlinewidth\":0,\"ticks\":\"\"}}}],\"histogram\":[{\"marker\":{\"pattern\":{\"fillmode\":\"overlay\",\"size\":10,\"solidity\":0.2}},\"type\":\"histogram\"}],\"scattergl\":[{\"type\":\"scattergl\",\"marker\":{\"colorbar\":{\"outlinewidth\":0,\"ticks\":\"\"}}}],\"scatter3d\":[{\"type\":\"scatter3d\",\"line\":{\"colorbar\":{\"outlinewidth\":0,\"ticks\":\"\"}},\"marker\":{\"colorbar\":{\"outlinewidth\":0,\"ticks\":\"\"}}}],\"scattermapbox\":[{\"type\":\"scattermapbox\",\"marker\":{\"colorbar\":{\"outlinewidth\":0,\"ticks\":\"\"}}}],\"scatterternary\":[{\"type\":\"scatterternary\",\"marker\":{\"colorbar\":{\"outlinewidth\":0,\"ticks\":\"\"}}}],\"scattercarpet\":[{\"type\":\"scattercarpet\",\"marker\":{\"colorbar\":{\"outlinewidth\":0,\"ticks\":\"\"}}}],\"carpet\":[{\"aaxis\":{\"endlinecolor\":\"#2a3f5f\",\"gridcolor\":\"white\",\"linecolor\":\"white\",\"minorgridcolor\":\"white\",\"startlinecolor\":\"#2a3f5f\"},\"baxis\":{\"endlinecolor\":\"#2a3f5f\",\"gridcolor\":\"white\",\"linecolor\":\"white\",\"minorgridcolor\":\"white\",\"startlinecolor\":\"#2a3f5f\"},\"type\":\"carpet\"}],\"table\":[{\"cells\":{\"fill\":{\"color\":\"#EBF0F8\"},\"line\":{\"color\":\"white\"}},\"header\":{\"fill\":{\"color\":\"#C8D4E3\"},\"line\":{\"color\":\"white\"}},\"type\":\"table\"}],\"barpolar\":[{\"marker\":{\"line\":{\"color\":\"#E5ECF6\",\"width\":0.5},\"pattern\":{\"fillmode\":\"overlay\",\"size\":10,\"solidity\":0.2}},\"type\":\"barpolar\"}],\"pie\":[{\"automargin\":true,\"type\":\"pie\"}]},\"layout\":{\"autotypenumbers\":\"strict\",\"colorway\":[\"#636efa\",\"#EF553B\",\"#00cc96\",\"#ab63fa\",\"#FFA15A\",\"#19d3f3\",\"#FF6692\",\"#B6E880\",\"#FF97FF\",\"#FECB52\"],\"font\":{\"color\":\"#2a3f5f\"},\"hovermode\":\"closest\",\"hoverlabel\":{\"align\":\"left\"},\"paper_bgcolor\":\"white\",\"plot_bgcolor\":\"#E5ECF6\",\"polar\":{\"bgcolor\":\"#E5ECF6\",\"angularaxis\":{\"gridcolor\":\"white\",\"linecolor\":\"white\",\"ticks\":\"\"},\"radialaxis\":{\"gridcolor\":\"white\",\"linecolor\":\"white\",\"ticks\":\"\"}},\"ternary\":{\"bgcolor\":\"#E5ECF6\",\"aaxis\":{\"gridcolor\":\"white\",\"linecolor\":\"white\",\"ticks\":\"\"},\"baxis\":{\"gridcolor\":\"white\",\"linecolor\":\"white\",\"ticks\":\"\"},\"caxis\":{\"gridcolor\":\"white\",\"linecolor\":\"white\",\"ticks\":\"\"}},\"coloraxis\":{\"colorbar\":{\"outlinewidth\":0,\"ticks\":\"\"}},\"colorscale\":{\"sequential\":[[0.0,\"#0d0887\"],[0.1111111111111111,\"#46039f\"],[0.2222222222222222,\"#7201a8\"],[0.3333333333333333,\"#9c179e\"],[0.4444444444444444,\"#bd3786\"],[0.5555555555555556,\"#d8576b\"],[0.6666666666666666,\"#ed7953\"],[0.7777777777777778,\"#fb9f3a\"],[0.8888888888888888,\"#fdca26\"],[1.0,\"#f0f921\"]],\"sequentialminus\":[[0.0,\"#0d0887\"],[0.1111111111111111,\"#46039f\"],[0.2222222222222222,\"#7201a8\"],[0.3333333333333333,\"#9c179e\"],[0.4444444444444444,\"#bd3786\"],[0.5555555555555556,\"#d8576b\"],[0.6666666666666666,\"#ed7953\"],[0.7777777777777778,\"#fb9f3a\"],[0.8888888888888888,\"#fdca26\"],[1.0,\"#f0f921\"]],\"diverging\":[[0,\"#8e0152\"],[0.1,\"#c51b7d\"],[0.2,\"#de77ae\"],[0.3,\"#f1b6da\"],[0.4,\"#fde0ef\"],[0.5,\"#f7f7f7\"],[0.6,\"#e6f5d0\"],[0.7,\"#b8e186\"],[0.8,\"#7fbc41\"],[0.9,\"#4d9221\"],[1,\"#276419\"]]},\"xaxis\":{\"gridcolor\":\"white\",\"linecolor\":\"white\",\"ticks\":\"\",\"title\":{\"standoff\":15},\"zerolinecolor\":\"white\",\"automargin\":true,\"zerolinewidth\":2},\"yaxis\":{\"gridcolor\":\"white\",\"linecolor\":\"white\",\"ticks\":\"\",\"title\":{\"standoff\":15},\"zerolinecolor\":\"white\",\"automargin\":true,\"zerolinewidth\":2},\"scene\":{\"xaxis\":{\"backgroundcolor\":\"#E5ECF6\",\"gridcolor\":\"white\",\"linecolor\":\"white\",\"showbackground\":true,\"ticks\":\"\",\"zerolinecolor\":\"white\",\"gridwidth\":2},\"yaxis\":{\"backgroundcolor\":\"#E5ECF6\",\"gridcolor\":\"white\",\"linecolor\":\"white\",\"showbackground\":true,\"ticks\":\"\",\"zerolinecolor\":\"white\",\"gridwidth\":2},\"zaxis\":{\"backgroundcolor\":\"#E5ECF6\",\"gridcolor\":\"white\",\"linecolor\":\"white\",\"showbackground\":true,\"ticks\":\"\",\"zerolinecolor\":\"white\",\"gridwidth\":2}},\"shapedefaults\":{\"line\":{\"color\":\"#2a3f5f\"}},\"annotationdefaults\":{\"arrowcolor\":\"#2a3f5f\",\"arrowhead\":0,\"arrowwidth\":1},\"geo\":{\"bgcolor\":\"white\",\"landcolor\":\"#E5ECF6\",\"subunitcolor\":\"white\",\"showland\":true,\"showlakes\":true,\"lakecolor\":\"white\"},\"title\":{\"x\":0.05},\"mapbox\":{\"style\":\"light\"}}},\"legend\":{\"tracegroupgap\":0,\"orientation\":\"v\",\"yanchor\":\"top\",\"y\":0.5,\"xanchor\":\"left\",\"x\":1.05,\"title\":{\"text\":\"Activity\"}},\"title\":{\"text\":\"Distribution of Classes in \\\"Activity\\\"\",\"font\":{\"size\":16},\"x\":0.45,\"xanchor\":\"center\",\"y\":0.95,\"yanchor\":\"top\"},\"piecolorway\":[\"#a3416c\",\"#ebc898\"],\"margin\":{\"t\":50,\"b\":0,\"l\":0,\"r\":0},\"width\":500,\"height\":350},                        {\"responsive\": true}                    ).then(function(){\n",
       "                            \n",
       "var gd = document.getElementById('084151ad-2793-4794-b7dd-ea39dbcdf5ff');\n",
       "var x = new MutationObserver(function (mutations, observer) {{\n",
       "        var display = window.getComputedStyle(gd).display;\n",
       "        if (!display || display === 'none') {{\n",
       "            console.log([gd, 'removed!']);\n",
       "            Plotly.purge(gd);\n",
       "            observer.disconnect();\n",
       "        }}\n",
       "}});\n",
       "\n",
       "// Listen for the removal of the full notebook cells\n",
       "var notebookContainer = gd.closest('#notebook-container');\n",
       "if (notebookContainer) {{\n",
       "    x.observe(notebookContainer, {childList: true});\n",
       "}}\n",
       "\n",
       "// Listen for the clearing of the current output cell\n",
       "var outputEl = gd.closest('.output');\n",
       "if (outputEl) {{\n",
       "    x.observe(outputEl, {childList: true});\n",
       "}}\n",
       "\n",
       "                        })                };                });            </script>        </div>"
      ]
     },
     "metadata": {},
     "output_type": "display_data"
    }
   ],
   "source": [
    "import plotly.express as px\n",
    "\n",
    "# Compute the count of each class in the 'target' column\n",
    "counts = data['Activity'].value_counts()\n",
    "\n",
    "# Define colors for the pie chart sections\n",
    "colors = ['#a3416c', '#ebc898']\n",
    "\n",
    "# Construct a pie chart with plotly\n",
    "# 'names' are the class labels, and 'values' are the counts for each class\n",
    "fig = px.pie(\n",
    "    names=counts.index,\n",
    "    values=counts.values,\n",
    "    hole=0.5,  # creates a donut-styled pie chart\n",
    "    title='Distribution of Classes in \"Activity\"',\n",
    "    color_discrete_sequence=colors\n",
    ")\n",
    "\n",
    "# Update the layout of the pie chart for better presentation and clarity\n",
    "fig.update_layout(\n",
    "    margin=dict(t=50, b=0, l=0, r=0),\n",
    "    legend=dict(\n",
    "        orientation=\"v\",\n",
    "        yanchor=\"top\",\n",
    "        y=0.5,\n",
    "        xanchor=\"left\",\n",
    "        x=1.05,\n",
    "        title='Activity'\n",
    "    ),\n",
    "    title=dict(\n",
    "        text='Distribution of Classes in \"Activity\"',\n",
    "        x=0.45,\n",
    "        xanchor='center',\n",
    "        y=0.95,\n",
    "        yanchor='top',\n",
    "        font=dict(size=16)\n",
    "    ),\n",
    "    width=500,\n",
    "    height=350\n",
    ")\n",
    "\n",
    "# Display the pie chart\n",
    "fig.show()"
   ]
  },
  {
   "cell_type": "code",
   "execution_count": 20,
   "metadata": {
    "colab": {
     "base_uri": "https://localhost:8080/",
     "height": 367
    },
    "id": "ISHzptCENGyl",
    "outputId": "98501340-7fce-41f0-d5fb-c9c0243dfdb9"
   },
   "outputs": [
    {
     "data": {
      "application/vnd.plotly.v1+json": {
       "config": {
        "plotlyServerURL": "https://plot.ly"
       },
       "data": [
        {
         "customdata": [
          [
           "subject1"
          ],
          [
           "subject2"
          ],
          [
           "subject3"
          ],
          [
           "subject4"
          ],
          [
           "subject5"
          ],
          [
           "subject6"
          ],
          [
           "subject7"
          ],
          [
           "subject8"
          ],
          [
           "subject9"
          ]
         ],
         "domain": {
          "x": [
           0,
           1
          ],
          "y": [
           0,
           1
          ]
         },
         "hole": 0.5,
         "hovertemplate": "subject=%{customdata[0]}<br>count=%{value}<extra></extra>",
         "labels": [
          "subject1",
          "subject2",
          "subject3",
          "subject4",
          "subject5",
          "subject6",
          "subject7",
          "subject8",
          "subject9"
         ],
         "legendgroup": "",
         "marker": {
          "colors": [
           "#636efa",
           "#EF553B",
           "#00cc96",
           "#ab63fa",
           "#FFA15A",
           "#19d3f3",
           "#FF6692",
           "#B6E880",
           "#FF97FF"
          ]
         },
         "name": "",
         "showlegend": true,
         "type": "pie",
         "values": [
          13,
          13,
          13,
          13,
          13,
          13,
          13,
          13,
          3
         ]
        }
       ],
       "layout": {
        "height": 350,
        "legend": {
         "orientation": "v",
         "title": {
          "text": "Unique Activities per Subject ID"
         },
         "tracegroupgap": 0,
         "x": 1.05,
         "xanchor": "left",
         "y": 0.5,
         "yanchor": "top"
        },
        "margin": {
         "b": 0,
         "l": 0,
         "r": 0,
         "t": 50
        },
        "template": {
         "data": {
          "bar": [
           {
            "error_x": {
             "color": "#2a3f5f"
            },
            "error_y": {
             "color": "#2a3f5f"
            },
            "marker": {
             "line": {
              "color": "#E5ECF6",
              "width": 0.5
             },
             "pattern": {
              "fillmode": "overlay",
              "size": 10,
              "solidity": 0.2
             }
            },
            "type": "bar"
           }
          ],
          "barpolar": [
           {
            "marker": {
             "line": {
              "color": "#E5ECF6",
              "width": 0.5
             },
             "pattern": {
              "fillmode": "overlay",
              "size": 10,
              "solidity": 0.2
             }
            },
            "type": "barpolar"
           }
          ],
          "carpet": [
           {
            "aaxis": {
             "endlinecolor": "#2a3f5f",
             "gridcolor": "white",
             "linecolor": "white",
             "minorgridcolor": "white",
             "startlinecolor": "#2a3f5f"
            },
            "baxis": {
             "endlinecolor": "#2a3f5f",
             "gridcolor": "white",
             "linecolor": "white",
             "minorgridcolor": "white",
             "startlinecolor": "#2a3f5f"
            },
            "type": "carpet"
           }
          ],
          "choropleth": [
           {
            "colorbar": {
             "outlinewidth": 0,
             "ticks": ""
            },
            "type": "choropleth"
           }
          ],
          "contour": [
           {
            "colorbar": {
             "outlinewidth": 0,
             "ticks": ""
            },
            "colorscale": [
             [
              0,
              "#0d0887"
             ],
             [
              0.1111111111111111,
              "#46039f"
             ],
             [
              0.2222222222222222,
              "#7201a8"
             ],
             [
              0.3333333333333333,
              "#9c179e"
             ],
             [
              0.4444444444444444,
              "#bd3786"
             ],
             [
              0.5555555555555556,
              "#d8576b"
             ],
             [
              0.6666666666666666,
              "#ed7953"
             ],
             [
              0.7777777777777778,
              "#fb9f3a"
             ],
             [
              0.8888888888888888,
              "#fdca26"
             ],
             [
              1,
              "#f0f921"
             ]
            ],
            "type": "contour"
           }
          ],
          "contourcarpet": [
           {
            "colorbar": {
             "outlinewidth": 0,
             "ticks": ""
            },
            "type": "contourcarpet"
           }
          ],
          "heatmap": [
           {
            "colorbar": {
             "outlinewidth": 0,
             "ticks": ""
            },
            "colorscale": [
             [
              0,
              "#0d0887"
             ],
             [
              0.1111111111111111,
              "#46039f"
             ],
             [
              0.2222222222222222,
              "#7201a8"
             ],
             [
              0.3333333333333333,
              "#9c179e"
             ],
             [
              0.4444444444444444,
              "#bd3786"
             ],
             [
              0.5555555555555556,
              "#d8576b"
             ],
             [
              0.6666666666666666,
              "#ed7953"
             ],
             [
              0.7777777777777778,
              "#fb9f3a"
             ],
             [
              0.8888888888888888,
              "#fdca26"
             ],
             [
              1,
              "#f0f921"
             ]
            ],
            "type": "heatmap"
           }
          ],
          "heatmapgl": [
           {
            "colorbar": {
             "outlinewidth": 0,
             "ticks": ""
            },
            "colorscale": [
             [
              0,
              "#0d0887"
             ],
             [
              0.1111111111111111,
              "#46039f"
             ],
             [
              0.2222222222222222,
              "#7201a8"
             ],
             [
              0.3333333333333333,
              "#9c179e"
             ],
             [
              0.4444444444444444,
              "#bd3786"
             ],
             [
              0.5555555555555556,
              "#d8576b"
             ],
             [
              0.6666666666666666,
              "#ed7953"
             ],
             [
              0.7777777777777778,
              "#fb9f3a"
             ],
             [
              0.8888888888888888,
              "#fdca26"
             ],
             [
              1,
              "#f0f921"
             ]
            ],
            "type": "heatmapgl"
           }
          ],
          "histogram": [
           {
            "marker": {
             "pattern": {
              "fillmode": "overlay",
              "size": 10,
              "solidity": 0.2
             }
            },
            "type": "histogram"
           }
          ],
          "histogram2d": [
           {
            "colorbar": {
             "outlinewidth": 0,
             "ticks": ""
            },
            "colorscale": [
             [
              0,
              "#0d0887"
             ],
             [
              0.1111111111111111,
              "#46039f"
             ],
             [
              0.2222222222222222,
              "#7201a8"
             ],
             [
              0.3333333333333333,
              "#9c179e"
             ],
             [
              0.4444444444444444,
              "#bd3786"
             ],
             [
              0.5555555555555556,
              "#d8576b"
             ],
             [
              0.6666666666666666,
              "#ed7953"
             ],
             [
              0.7777777777777778,
              "#fb9f3a"
             ],
             [
              0.8888888888888888,
              "#fdca26"
             ],
             [
              1,
              "#f0f921"
             ]
            ],
            "type": "histogram2d"
           }
          ],
          "histogram2dcontour": [
           {
            "colorbar": {
             "outlinewidth": 0,
             "ticks": ""
            },
            "colorscale": [
             [
              0,
              "#0d0887"
             ],
             [
              0.1111111111111111,
              "#46039f"
             ],
             [
              0.2222222222222222,
              "#7201a8"
             ],
             [
              0.3333333333333333,
              "#9c179e"
             ],
             [
              0.4444444444444444,
              "#bd3786"
             ],
             [
              0.5555555555555556,
              "#d8576b"
             ],
             [
              0.6666666666666666,
              "#ed7953"
             ],
             [
              0.7777777777777778,
              "#fb9f3a"
             ],
             [
              0.8888888888888888,
              "#fdca26"
             ],
             [
              1,
              "#f0f921"
             ]
            ],
            "type": "histogram2dcontour"
           }
          ],
          "mesh3d": [
           {
            "colorbar": {
             "outlinewidth": 0,
             "ticks": ""
            },
            "type": "mesh3d"
           }
          ],
          "parcoords": [
           {
            "line": {
             "colorbar": {
              "outlinewidth": 0,
              "ticks": ""
             }
            },
            "type": "parcoords"
           }
          ],
          "pie": [
           {
            "automargin": true,
            "type": "pie"
           }
          ],
          "scatter": [
           {
            "fillpattern": {
             "fillmode": "overlay",
             "size": 10,
             "solidity": 0.2
            },
            "type": "scatter"
           }
          ],
          "scatter3d": [
           {
            "line": {
             "colorbar": {
              "outlinewidth": 0,
              "ticks": ""
             }
            },
            "marker": {
             "colorbar": {
              "outlinewidth": 0,
              "ticks": ""
             }
            },
            "type": "scatter3d"
           }
          ],
          "scattercarpet": [
           {
            "marker": {
             "colorbar": {
              "outlinewidth": 0,
              "ticks": ""
             }
            },
            "type": "scattercarpet"
           }
          ],
          "scattergeo": [
           {
            "marker": {
             "colorbar": {
              "outlinewidth": 0,
              "ticks": ""
             }
            },
            "type": "scattergeo"
           }
          ],
          "scattergl": [
           {
            "marker": {
             "colorbar": {
              "outlinewidth": 0,
              "ticks": ""
             }
            },
            "type": "scattergl"
           }
          ],
          "scattermapbox": [
           {
            "marker": {
             "colorbar": {
              "outlinewidth": 0,
              "ticks": ""
             }
            },
            "type": "scattermapbox"
           }
          ],
          "scatterpolar": [
           {
            "marker": {
             "colorbar": {
              "outlinewidth": 0,
              "ticks": ""
             }
            },
            "type": "scatterpolar"
           }
          ],
          "scatterpolargl": [
           {
            "marker": {
             "colorbar": {
              "outlinewidth": 0,
              "ticks": ""
             }
            },
            "type": "scatterpolargl"
           }
          ],
          "scatterternary": [
           {
            "marker": {
             "colorbar": {
              "outlinewidth": 0,
              "ticks": ""
             }
            },
            "type": "scatterternary"
           }
          ],
          "surface": [
           {
            "colorbar": {
             "outlinewidth": 0,
             "ticks": ""
            },
            "colorscale": [
             [
              0,
              "#0d0887"
             ],
             [
              0.1111111111111111,
              "#46039f"
             ],
             [
              0.2222222222222222,
              "#7201a8"
             ],
             [
              0.3333333333333333,
              "#9c179e"
             ],
             [
              0.4444444444444444,
              "#bd3786"
             ],
             [
              0.5555555555555556,
              "#d8576b"
             ],
             [
              0.6666666666666666,
              "#ed7953"
             ],
             [
              0.7777777777777778,
              "#fb9f3a"
             ],
             [
              0.8888888888888888,
              "#fdca26"
             ],
             [
              1,
              "#f0f921"
             ]
            ],
            "type": "surface"
           }
          ],
          "table": [
           {
            "cells": {
             "fill": {
              "color": "#EBF0F8"
             },
             "line": {
              "color": "white"
             }
            },
            "header": {
             "fill": {
              "color": "#C8D4E3"
             },
             "line": {
              "color": "white"
             }
            },
            "type": "table"
           }
          ]
         },
         "layout": {
          "annotationdefaults": {
           "arrowcolor": "#2a3f5f",
           "arrowhead": 0,
           "arrowwidth": 1
          },
          "autotypenumbers": "strict",
          "coloraxis": {
           "colorbar": {
            "outlinewidth": 0,
            "ticks": ""
           }
          },
          "colorscale": {
           "diverging": [
            [
             0,
             "#8e0152"
            ],
            [
             0.1,
             "#c51b7d"
            ],
            [
             0.2,
             "#de77ae"
            ],
            [
             0.3,
             "#f1b6da"
            ],
            [
             0.4,
             "#fde0ef"
            ],
            [
             0.5,
             "#f7f7f7"
            ],
            [
             0.6,
             "#e6f5d0"
            ],
            [
             0.7,
             "#b8e186"
            ],
            [
             0.8,
             "#7fbc41"
            ],
            [
             0.9,
             "#4d9221"
            ],
            [
             1,
             "#276419"
            ]
           ],
           "sequential": [
            [
             0,
             "#0d0887"
            ],
            [
             0.1111111111111111,
             "#46039f"
            ],
            [
             0.2222222222222222,
             "#7201a8"
            ],
            [
             0.3333333333333333,
             "#9c179e"
            ],
            [
             0.4444444444444444,
             "#bd3786"
            ],
            [
             0.5555555555555556,
             "#d8576b"
            ],
            [
             0.6666666666666666,
             "#ed7953"
            ],
            [
             0.7777777777777778,
             "#fb9f3a"
            ],
            [
             0.8888888888888888,
             "#fdca26"
            ],
            [
             1,
             "#f0f921"
            ]
           ],
           "sequentialminus": [
            [
             0,
             "#0d0887"
            ],
            [
             0.1111111111111111,
             "#46039f"
            ],
            [
             0.2222222222222222,
             "#7201a8"
            ],
            [
             0.3333333333333333,
             "#9c179e"
            ],
            [
             0.4444444444444444,
             "#bd3786"
            ],
            [
             0.5555555555555556,
             "#d8576b"
            ],
            [
             0.6666666666666666,
             "#ed7953"
            ],
            [
             0.7777777777777778,
             "#fb9f3a"
            ],
            [
             0.8888888888888888,
             "#fdca26"
            ],
            [
             1,
             "#f0f921"
            ]
           ]
          },
          "colorway": [
           "#636efa",
           "#EF553B",
           "#00cc96",
           "#ab63fa",
           "#FFA15A",
           "#19d3f3",
           "#FF6692",
           "#B6E880",
           "#FF97FF",
           "#FECB52"
          ],
          "font": {
           "color": "#2a3f5f"
          },
          "geo": {
           "bgcolor": "white",
           "lakecolor": "white",
           "landcolor": "#E5ECF6",
           "showlakes": true,
           "showland": true,
           "subunitcolor": "white"
          },
          "hoverlabel": {
           "align": "left"
          },
          "hovermode": "closest",
          "mapbox": {
           "style": "light"
          },
          "paper_bgcolor": "white",
          "plot_bgcolor": "#E5ECF6",
          "polar": {
           "angularaxis": {
            "gridcolor": "white",
            "linecolor": "white",
            "ticks": ""
           },
           "bgcolor": "#E5ECF6",
           "radialaxis": {
            "gridcolor": "white",
            "linecolor": "white",
            "ticks": ""
           }
          },
          "scene": {
           "xaxis": {
            "backgroundcolor": "#E5ECF6",
            "gridcolor": "white",
            "gridwidth": 2,
            "linecolor": "white",
            "showbackground": true,
            "ticks": "",
            "zerolinecolor": "white"
           },
           "yaxis": {
            "backgroundcolor": "#E5ECF6",
            "gridcolor": "white",
            "gridwidth": 2,
            "linecolor": "white",
            "showbackground": true,
            "ticks": "",
            "zerolinecolor": "white"
           },
           "zaxis": {
            "backgroundcolor": "#E5ECF6",
            "gridcolor": "white",
            "gridwidth": 2,
            "linecolor": "white",
            "showbackground": true,
            "ticks": "",
            "zerolinecolor": "white"
           }
          },
          "shapedefaults": {
           "line": {
            "color": "#2a3f5f"
           }
          },
          "ternary": {
           "aaxis": {
            "gridcolor": "white",
            "linecolor": "white",
            "ticks": ""
           },
           "baxis": {
            "gridcolor": "white",
            "linecolor": "white",
            "ticks": ""
           },
           "bgcolor": "#E5ECF6",
           "caxis": {
            "gridcolor": "white",
            "linecolor": "white",
            "ticks": ""
           }
          },
          "title": {
           "x": 0.05
          },
          "xaxis": {
           "automargin": true,
           "gridcolor": "white",
           "linecolor": "white",
           "ticks": "",
           "title": {
            "standoff": 15
           },
           "zerolinecolor": "white",
           "zerolinewidth": 2
          },
          "yaxis": {
           "automargin": true,
           "gridcolor": "white",
           "linecolor": "white",
           "ticks": "",
           "title": {
            "standoff": 15
           },
           "zerolinecolor": "white",
           "zerolinewidth": 2
          }
         }
        },
        "title": {
         "font": {
          "size": 16
         },
         "text": "Distribution of Unique Activities by Subject ID",
         "x": 0.45,
         "xanchor": "center",
         "y": 0.95,
         "yanchor": "top"
        },
        "width": 500
       }
      },
      "text/html": [
       "<div>                            <div id=\"c6bf41b5-2522-438e-9c6d-eb3b625cf2bd\" class=\"plotly-graph-div\" style=\"height:350px; width:500px;\"></div>            <script type=\"text/javascript\">                require([\"plotly\"], function(Plotly) {                    window.PLOTLYENV=window.PLOTLYENV || {};                                    if (document.getElementById(\"c6bf41b5-2522-438e-9c6d-eb3b625cf2bd\")) {                    Plotly.newPlot(                        \"c6bf41b5-2522-438e-9c6d-eb3b625cf2bd\",                        [{\"customdata\":[[\"subject1\"],[\"subject2\"],[\"subject3\"],[\"subject4\"],[\"subject5\"],[\"subject6\"],[\"subject7\"],[\"subject8\"],[\"subject9\"]],\"domain\":{\"x\":[0.0,1.0],\"y\":[0.0,1.0]},\"hole\":0.5,\"hovertemplate\":\"subject=%{customdata[0]}<br>count=%{value}<extra></extra>\",\"labels\":[\"subject1\",\"subject2\",\"subject3\",\"subject4\",\"subject5\",\"subject6\",\"subject7\",\"subject8\",\"subject9\"],\"legendgroup\":\"\",\"marker\":{\"colors\":[\"#636efa\",\"#EF553B\",\"#00cc96\",\"#ab63fa\",\"#FFA15A\",\"#19d3f3\",\"#FF6692\",\"#B6E880\",\"#FF97FF\"]},\"name\":\"\",\"showlegend\":true,\"values\":[13,13,13,13,13,13,13,13,3],\"type\":\"pie\"}],                        {\"template\":{\"data\":{\"histogram2dcontour\":[{\"type\":\"histogram2dcontour\",\"colorbar\":{\"outlinewidth\":0,\"ticks\":\"\"},\"colorscale\":[[0.0,\"#0d0887\"],[0.1111111111111111,\"#46039f\"],[0.2222222222222222,\"#7201a8\"],[0.3333333333333333,\"#9c179e\"],[0.4444444444444444,\"#bd3786\"],[0.5555555555555556,\"#d8576b\"],[0.6666666666666666,\"#ed7953\"],[0.7777777777777778,\"#fb9f3a\"],[0.8888888888888888,\"#fdca26\"],[1.0,\"#f0f921\"]]}],\"choropleth\":[{\"type\":\"choropleth\",\"colorbar\":{\"outlinewidth\":0,\"ticks\":\"\"}}],\"histogram2d\":[{\"type\":\"histogram2d\",\"colorbar\":{\"outlinewidth\":0,\"ticks\":\"\"},\"colorscale\":[[0.0,\"#0d0887\"],[0.1111111111111111,\"#46039f\"],[0.2222222222222222,\"#7201a8\"],[0.3333333333333333,\"#9c179e\"],[0.4444444444444444,\"#bd3786\"],[0.5555555555555556,\"#d8576b\"],[0.6666666666666666,\"#ed7953\"],[0.7777777777777778,\"#fb9f3a\"],[0.8888888888888888,\"#fdca26\"],[1.0,\"#f0f921\"]]}],\"heatmap\":[{\"type\":\"heatmap\",\"colorbar\":{\"outlinewidth\":0,\"ticks\":\"\"},\"colorscale\":[[0.0,\"#0d0887\"],[0.1111111111111111,\"#46039f\"],[0.2222222222222222,\"#7201a8\"],[0.3333333333333333,\"#9c179e\"],[0.4444444444444444,\"#bd3786\"],[0.5555555555555556,\"#d8576b\"],[0.6666666666666666,\"#ed7953\"],[0.7777777777777778,\"#fb9f3a\"],[0.8888888888888888,\"#fdca26\"],[1.0,\"#f0f921\"]]}],\"heatmapgl\":[{\"type\":\"heatmapgl\",\"colorbar\":{\"outlinewidth\":0,\"ticks\":\"\"},\"colorscale\":[[0.0,\"#0d0887\"],[0.1111111111111111,\"#46039f\"],[0.2222222222222222,\"#7201a8\"],[0.3333333333333333,\"#9c179e\"],[0.4444444444444444,\"#bd3786\"],[0.5555555555555556,\"#d8576b\"],[0.6666666666666666,\"#ed7953\"],[0.7777777777777778,\"#fb9f3a\"],[0.8888888888888888,\"#fdca26\"],[1.0,\"#f0f921\"]]}],\"contourcarpet\":[{\"type\":\"contourcarpet\",\"colorbar\":{\"outlinewidth\":0,\"ticks\":\"\"}}],\"contour\":[{\"type\":\"contour\",\"colorbar\":{\"outlinewidth\":0,\"ticks\":\"\"},\"colorscale\":[[0.0,\"#0d0887\"],[0.1111111111111111,\"#46039f\"],[0.2222222222222222,\"#7201a8\"],[0.3333333333333333,\"#9c179e\"],[0.4444444444444444,\"#bd3786\"],[0.5555555555555556,\"#d8576b\"],[0.6666666666666666,\"#ed7953\"],[0.7777777777777778,\"#fb9f3a\"],[0.8888888888888888,\"#fdca26\"],[1.0,\"#f0f921\"]]}],\"surface\":[{\"type\":\"surface\",\"colorbar\":{\"outlinewidth\":0,\"ticks\":\"\"},\"colorscale\":[[0.0,\"#0d0887\"],[0.1111111111111111,\"#46039f\"],[0.2222222222222222,\"#7201a8\"],[0.3333333333333333,\"#9c179e\"],[0.4444444444444444,\"#bd3786\"],[0.5555555555555556,\"#d8576b\"],[0.6666666666666666,\"#ed7953\"],[0.7777777777777778,\"#fb9f3a\"],[0.8888888888888888,\"#fdca26\"],[1.0,\"#f0f921\"]]}],\"mesh3d\":[{\"type\":\"mesh3d\",\"colorbar\":{\"outlinewidth\":0,\"ticks\":\"\"}}],\"scatter\":[{\"fillpattern\":{\"fillmode\":\"overlay\",\"size\":10,\"solidity\":0.2},\"type\":\"scatter\"}],\"parcoords\":[{\"type\":\"parcoords\",\"line\":{\"colorbar\":{\"outlinewidth\":0,\"ticks\":\"\"}}}],\"scatterpolargl\":[{\"type\":\"scatterpolargl\",\"marker\":{\"colorbar\":{\"outlinewidth\":0,\"ticks\":\"\"}}}],\"bar\":[{\"error_x\":{\"color\":\"#2a3f5f\"},\"error_y\":{\"color\":\"#2a3f5f\"},\"marker\":{\"line\":{\"color\":\"#E5ECF6\",\"width\":0.5},\"pattern\":{\"fillmode\":\"overlay\",\"size\":10,\"solidity\":0.2}},\"type\":\"bar\"}],\"scattergeo\":[{\"type\":\"scattergeo\",\"marker\":{\"colorbar\":{\"outlinewidth\":0,\"ticks\":\"\"}}}],\"scatterpolar\":[{\"type\":\"scatterpolar\",\"marker\":{\"colorbar\":{\"outlinewidth\":0,\"ticks\":\"\"}}}],\"histogram\":[{\"marker\":{\"pattern\":{\"fillmode\":\"overlay\",\"size\":10,\"solidity\":0.2}},\"type\":\"histogram\"}],\"scattergl\":[{\"type\":\"scattergl\",\"marker\":{\"colorbar\":{\"outlinewidth\":0,\"ticks\":\"\"}}}],\"scatter3d\":[{\"type\":\"scatter3d\",\"line\":{\"colorbar\":{\"outlinewidth\":0,\"ticks\":\"\"}},\"marker\":{\"colorbar\":{\"outlinewidth\":0,\"ticks\":\"\"}}}],\"scattermapbox\":[{\"type\":\"scattermapbox\",\"marker\":{\"colorbar\":{\"outlinewidth\":0,\"ticks\":\"\"}}}],\"scatterternary\":[{\"type\":\"scatterternary\",\"marker\":{\"colorbar\":{\"outlinewidth\":0,\"ticks\":\"\"}}}],\"scattercarpet\":[{\"type\":\"scattercarpet\",\"marker\":{\"colorbar\":{\"outlinewidth\":0,\"ticks\":\"\"}}}],\"carpet\":[{\"aaxis\":{\"endlinecolor\":\"#2a3f5f\",\"gridcolor\":\"white\",\"linecolor\":\"white\",\"minorgridcolor\":\"white\",\"startlinecolor\":\"#2a3f5f\"},\"baxis\":{\"endlinecolor\":\"#2a3f5f\",\"gridcolor\":\"white\",\"linecolor\":\"white\",\"minorgridcolor\":\"white\",\"startlinecolor\":\"#2a3f5f\"},\"type\":\"carpet\"}],\"table\":[{\"cells\":{\"fill\":{\"color\":\"#EBF0F8\"},\"line\":{\"color\":\"white\"}},\"header\":{\"fill\":{\"color\":\"#C8D4E3\"},\"line\":{\"color\":\"white\"}},\"type\":\"table\"}],\"barpolar\":[{\"marker\":{\"line\":{\"color\":\"#E5ECF6\",\"width\":0.5},\"pattern\":{\"fillmode\":\"overlay\",\"size\":10,\"solidity\":0.2}},\"type\":\"barpolar\"}],\"pie\":[{\"automargin\":true,\"type\":\"pie\"}]},\"layout\":{\"autotypenumbers\":\"strict\",\"colorway\":[\"#636efa\",\"#EF553B\",\"#00cc96\",\"#ab63fa\",\"#FFA15A\",\"#19d3f3\",\"#FF6692\",\"#B6E880\",\"#FF97FF\",\"#FECB52\"],\"font\":{\"color\":\"#2a3f5f\"},\"hovermode\":\"closest\",\"hoverlabel\":{\"align\":\"left\"},\"paper_bgcolor\":\"white\",\"plot_bgcolor\":\"#E5ECF6\",\"polar\":{\"bgcolor\":\"#E5ECF6\",\"angularaxis\":{\"gridcolor\":\"white\",\"linecolor\":\"white\",\"ticks\":\"\"},\"radialaxis\":{\"gridcolor\":\"white\",\"linecolor\":\"white\",\"ticks\":\"\"}},\"ternary\":{\"bgcolor\":\"#E5ECF6\",\"aaxis\":{\"gridcolor\":\"white\",\"linecolor\":\"white\",\"ticks\":\"\"},\"baxis\":{\"gridcolor\":\"white\",\"linecolor\":\"white\",\"ticks\":\"\"},\"caxis\":{\"gridcolor\":\"white\",\"linecolor\":\"white\",\"ticks\":\"\"}},\"coloraxis\":{\"colorbar\":{\"outlinewidth\":0,\"ticks\":\"\"}},\"colorscale\":{\"sequential\":[[0.0,\"#0d0887\"],[0.1111111111111111,\"#46039f\"],[0.2222222222222222,\"#7201a8\"],[0.3333333333333333,\"#9c179e\"],[0.4444444444444444,\"#bd3786\"],[0.5555555555555556,\"#d8576b\"],[0.6666666666666666,\"#ed7953\"],[0.7777777777777778,\"#fb9f3a\"],[0.8888888888888888,\"#fdca26\"],[1.0,\"#f0f921\"]],\"sequentialminus\":[[0.0,\"#0d0887\"],[0.1111111111111111,\"#46039f\"],[0.2222222222222222,\"#7201a8\"],[0.3333333333333333,\"#9c179e\"],[0.4444444444444444,\"#bd3786\"],[0.5555555555555556,\"#d8576b\"],[0.6666666666666666,\"#ed7953\"],[0.7777777777777778,\"#fb9f3a\"],[0.8888888888888888,\"#fdca26\"],[1.0,\"#f0f921\"]],\"diverging\":[[0,\"#8e0152\"],[0.1,\"#c51b7d\"],[0.2,\"#de77ae\"],[0.3,\"#f1b6da\"],[0.4,\"#fde0ef\"],[0.5,\"#f7f7f7\"],[0.6,\"#e6f5d0\"],[0.7,\"#b8e186\"],[0.8,\"#7fbc41\"],[0.9,\"#4d9221\"],[1,\"#276419\"]]},\"xaxis\":{\"gridcolor\":\"white\",\"linecolor\":\"white\",\"ticks\":\"\",\"title\":{\"standoff\":15},\"zerolinecolor\":\"white\",\"automargin\":true,\"zerolinewidth\":2},\"yaxis\":{\"gridcolor\":\"white\",\"linecolor\":\"white\",\"ticks\":\"\",\"title\":{\"standoff\":15},\"zerolinecolor\":\"white\",\"automargin\":true,\"zerolinewidth\":2},\"scene\":{\"xaxis\":{\"backgroundcolor\":\"#E5ECF6\",\"gridcolor\":\"white\",\"linecolor\":\"white\",\"showbackground\":true,\"ticks\":\"\",\"zerolinecolor\":\"white\",\"gridwidth\":2},\"yaxis\":{\"backgroundcolor\":\"#E5ECF6\",\"gridcolor\":\"white\",\"linecolor\":\"white\",\"showbackground\":true,\"ticks\":\"\",\"zerolinecolor\":\"white\",\"gridwidth\":2},\"zaxis\":{\"backgroundcolor\":\"#E5ECF6\",\"gridcolor\":\"white\",\"linecolor\":\"white\",\"showbackground\":true,\"ticks\":\"\",\"zerolinecolor\":\"white\",\"gridwidth\":2}},\"shapedefaults\":{\"line\":{\"color\":\"#2a3f5f\"}},\"annotationdefaults\":{\"arrowcolor\":\"#2a3f5f\",\"arrowhead\":0,\"arrowwidth\":1},\"geo\":{\"bgcolor\":\"white\",\"landcolor\":\"#E5ECF6\",\"subunitcolor\":\"white\",\"showland\":true,\"showlakes\":true,\"lakecolor\":\"white\"},\"title\":{\"x\":0.05},\"mapbox\":{\"style\":\"light\"}}},\"legend\":{\"tracegroupgap\":0,\"orientation\":\"v\",\"yanchor\":\"top\",\"y\":0.5,\"xanchor\":\"left\",\"x\":1.05,\"title\":{\"text\":\"Unique Activities per Subject ID\"}},\"title\":{\"text\":\"Distribution of Unique Activities by Subject ID\",\"font\":{\"size\":16},\"x\":0.45,\"xanchor\":\"center\",\"y\":0.95,\"yanchor\":\"top\"},\"margin\":{\"t\":50,\"b\":0,\"l\":0,\"r\":0},\"width\":500,\"height\":350},                        {\"responsive\": true}                    ).then(function(){\n",
       "                            \n",
       "var gd = document.getElementById('c6bf41b5-2522-438e-9c6d-eb3b625cf2bd');\n",
       "var x = new MutationObserver(function (mutations, observer) {{\n",
       "        var display = window.getComputedStyle(gd).display;\n",
       "        if (!display || display === 'none') {{\n",
       "            console.log([gd, 'removed!']);\n",
       "            Plotly.purge(gd);\n",
       "            observer.disconnect();\n",
       "        }}\n",
       "}});\n",
       "\n",
       "// Listen for the removal of the full notebook cells\n",
       "var notebookContainer = gd.closest('#notebook-container');\n",
       "if (notebookContainer) {{\n",
       "    x.observe(notebookContainer, {childList: true});\n",
       "}}\n",
       "\n",
       "// Listen for the clearing of the current output cell\n",
       "var outputEl = gd.closest('.output');\n",
       "if (outputEl) {{\n",
       "    x.observe(outputEl, {childList: true});\n",
       "}}\n",
       "\n",
       "                        })                };                });            </script>        </div>"
      ]
     },
     "metadata": {},
     "output_type": "display_data"
    }
   ],
   "source": [
    "# Compute the count of unique 'Activity' values for each 'subject_id'\n",
    "counts = data.groupby('subject')['Activity'].nunique().reset_index(name='count')\n",
    "\n",
    "# Define colors for the pie chart sections\n",
    "colors = ['#a3416c', '#ebc898']\n",
    "\n",
    "# Construct a pie chart with plotly\n",
    "# 'names' are the 'subject_id' labels, and 'values' are the counts for each 'subject_id'\n",
    "fig = px.pie(\n",
    "    counts,\n",
    "    names='subject',\n",
    "    values='count',\n",
    "    color='subject',\n",
    "    hole=0.5,  # creates a donut-styled pie chart\n",
    "    title='Distribution of Unique Activities by Subject ID'\n",
    ")\n",
    "\n",
    "# Update the layout of the pie chart for better presentation and clarity\n",
    "fig.update_layout(\n",
    "    margin=dict(t=50, b=0, l=0, r=0),\n",
    "    legend=dict(\n",
    "        orientation=\"v\",\n",
    "        yanchor=\"top\",\n",
    "        y=0.5,\n",
    "        xanchor=\"left\",\n",
    "        x=1.05,\n",
    "        title='Unique Activities per Subject ID'\n",
    "    ),\n",
    "    title=dict(\n",
    "        text='Distribution of Unique Activities by Subject ID',\n",
    "        x=0.45,\n",
    "        xanchor='center',\n",
    "        y=0.95,\n",
    "        yanchor='top',\n",
    "        font=dict(size=16)\n",
    "    ),\n",
    "    width=500,\n",
    "    height=350\n",
    ")\n",
    "\n",
    "# Display the pie chart\n",
    "fig.show()"
   ]
  },
  {
   "cell_type": "code",
   "execution_count": 9,
   "metadata": {
    "colab": {
     "base_uri": "https://localhost:8080/",
     "height": 206
    },
    "id": "PdXV_SeLRC8v",
    "outputId": "7717a664-b45d-4dda-f7a0-181516dd6b4d"
   },
   "outputs": [
    {
     "data": {
      "text/html": [
       "<div>\n",
       "<style scoped>\n",
       "    .dataframe tbody tr th:only-of-type {\n",
       "        vertical-align: middle;\n",
       "    }\n",
       "\n",
       "    .dataframe tbody tr th {\n",
       "        vertical-align: top;\n",
       "    }\n",
       "\n",
       "    .dataframe thead th {\n",
       "        text-align: right;\n",
       "    }\n",
       "</style>\n",
       "<table border=\"1\" class=\"dataframe\">\n",
       "  <thead>\n",
       "    <tr style=\"text-align: right;\">\n",
       "      <th></th>\n",
       "      <th>alx</th>\n",
       "      <th>aly</th>\n",
       "      <th>alz</th>\n",
       "      <th>glx</th>\n",
       "      <th>gly</th>\n",
       "      <th>glz</th>\n",
       "      <th>arx</th>\n",
       "      <th>ary</th>\n",
       "      <th>arz</th>\n",
       "      <th>grx</th>\n",
       "      <th>gry</th>\n",
       "      <th>grz</th>\n",
       "      <th>Activity</th>\n",
       "    </tr>\n",
       "  </thead>\n",
       "  <tbody>\n",
       "    <tr>\n",
       "      <th>0</th>\n",
       "      <td>2.1849</td>\n",
       "      <td>-9.6967</td>\n",
       "      <td>0.63077</td>\n",
       "      <td>0.103900</td>\n",
       "      <td>-0.84053</td>\n",
       "      <td>-0.68762</td>\n",
       "      <td>-8.6499</td>\n",
       "      <td>-4.5781</td>\n",
       "      <td>0.187760</td>\n",
       "      <td>-0.44902</td>\n",
       "      <td>-1.0103</td>\n",
       "      <td>0.034483</td>\n",
       "      <td>0</td>\n",
       "    </tr>\n",
       "    <tr>\n",
       "      <th>1</th>\n",
       "      <td>2.3876</td>\n",
       "      <td>-9.5080</td>\n",
       "      <td>0.68389</td>\n",
       "      <td>0.085343</td>\n",
       "      <td>-0.83865</td>\n",
       "      <td>-0.68369</td>\n",
       "      <td>-8.6275</td>\n",
       "      <td>-4.3198</td>\n",
       "      <td>0.023595</td>\n",
       "      <td>-0.44902</td>\n",
       "      <td>-1.0103</td>\n",
       "      <td>0.034483</td>\n",
       "      <td>0</td>\n",
       "    </tr>\n",
       "    <tr>\n",
       "      <th>2</th>\n",
       "      <td>2.4086</td>\n",
       "      <td>-9.5674</td>\n",
       "      <td>0.68113</td>\n",
       "      <td>0.085343</td>\n",
       "      <td>-0.83865</td>\n",
       "      <td>-0.68369</td>\n",
       "      <td>-8.5055</td>\n",
       "      <td>-4.2772</td>\n",
       "      <td>0.275720</td>\n",
       "      <td>-0.44902</td>\n",
       "      <td>-1.0103</td>\n",
       "      <td>0.034483</td>\n",
       "      <td>0</td>\n",
       "    </tr>\n",
       "    <tr>\n",
       "      <th>3</th>\n",
       "      <td>2.1814</td>\n",
       "      <td>-9.4301</td>\n",
       "      <td>0.55031</td>\n",
       "      <td>0.085343</td>\n",
       "      <td>-0.83865</td>\n",
       "      <td>-0.68369</td>\n",
       "      <td>-8.6279</td>\n",
       "      <td>-4.3163</td>\n",
       "      <td>0.367520</td>\n",
       "      <td>-0.45686</td>\n",
       "      <td>-1.0082</td>\n",
       "      <td>0.025862</td>\n",
       "      <td>0</td>\n",
       "    </tr>\n",
       "    <tr>\n",
       "      <th>4</th>\n",
       "      <td>2.4173</td>\n",
       "      <td>-9.3889</td>\n",
       "      <td>0.71098</td>\n",
       "      <td>0.085343</td>\n",
       "      <td>-0.83865</td>\n",
       "      <td>-0.68369</td>\n",
       "      <td>-8.7008</td>\n",
       "      <td>-4.1459</td>\n",
       "      <td>0.407290</td>\n",
       "      <td>-0.45686</td>\n",
       "      <td>-1.0082</td>\n",
       "      <td>0.025862</td>\n",
       "      <td>0</td>\n",
       "    </tr>\n",
       "  </tbody>\n",
       "</table>\n",
       "</div>"
      ],
      "text/plain": [
       "      alx     aly      alz       glx      gly      glz     arx     ary  \\\n",
       "0  2.1849 -9.6967  0.63077  0.103900 -0.84053 -0.68762 -8.6499 -4.5781   \n",
       "1  2.3876 -9.5080  0.68389  0.085343 -0.83865 -0.68369 -8.6275 -4.3198   \n",
       "2  2.4086 -9.5674  0.68113  0.085343 -0.83865 -0.68369 -8.5055 -4.2772   \n",
       "3  2.1814 -9.4301  0.55031  0.085343 -0.83865 -0.68369 -8.6279 -4.3163   \n",
       "4  2.4173 -9.3889  0.71098  0.085343 -0.83865 -0.68369 -8.7008 -4.1459   \n",
       "\n",
       "        arz      grx     gry       grz  Activity  \n",
       "0  0.187760 -0.44902 -1.0103  0.034483         0  \n",
       "1  0.023595 -0.44902 -1.0103  0.034483         0  \n",
       "2  0.275720 -0.44902 -1.0103  0.034483         0  \n",
       "3  0.367520 -0.45686 -1.0082  0.025862         0  \n",
       "4  0.407290 -0.45686 -1.0082  0.025862         0  "
      ]
     },
     "execution_count": 9,
     "metadata": {},
     "output_type": "execute_result"
    }
   ],
   "source": [
    "df_without_subjects = data.iloc[:, :-1]\n",
    "df_without_subjects.head()"
   ]
  },
  {
   "cell_type": "code",
   "execution_count": 10,
   "metadata": {
    "colab": {
     "base_uri": "https://localhost:8080/",
     "height": 855
    },
    "id": "U9g98EfOQrBB",
    "outputId": "f6a0234a-4349-4a4f-8e9e-c78d269f590a"
   },
   "outputs": [
    {
     "data": {
      "image/png": "[encoded data removed]",
      "text/plain": [
       "<Figure size 1200x1000 with 2 Axes>"
      ]
     },
     "metadata": {},
     "output_type": "display_data"
    }
   ],
   "source": [
    "# For the correlation heatmap, we'll use only numerical columns.\n",
    "# We'll update the list of numerical features to exclude columns with '_id' in their names.\n",
    "\n",
    "# Recalculate the correlation matrix without the '_id' columns\n",
    "correlation_matrix = df_without_subjects.corr()\n",
    "\n",
    "# Plot the updated correlation heatmap\n",
    "plt.figure(figsize=(12, 10))\n",
    "sns.heatmap(correlation_matrix, annot=True, fmt=\".2f\", cmap='magma')\n",
    "plt.title('Correlation Heatmap', fontsize=15)\n",
    "plt.show()"
   ]
  },
  {
   "cell_type": "code",
   "execution_count": 3,
   "metadata": {
    "colab": {
     "base_uri": "https://localhost:8080/"
    },
    "id": "xwPTt1n6Rae-",
    "outputId": "e9d7c996-5db4-41fe-f2ef-0a695138c14f"
   },
   "outputs": [
    {
     "data": {
      "text/plain": [
       "((642110, 14), (357889, 14))"
      ]
     },
     "execution_count": 3,
     "metadata": {},
     "output_type": "execute_result"
    }
   ],
   "source": [
    "from sklearn.model_selection import train_test_split\n",
    "\n",
    "# Grouping by 'patient_nbr' and creating a list of dataframes, one per group\n",
    "grouped = data.groupby('subject')\n",
    "grouped_dfs = [group for _, group in grouped]\n",
    "\n",
    "# Splitting the groups into training and test sets with an 80:20 ratio\n",
    "train_groups, test_groups = train_test_split(grouped_dfs, test_size=0.33, random_state=42)\n",
    "\n",
    "# Reassembling the training and test datasets from the groups\n",
    "train_df = pd.concat(train_groups)\n",
    "test_df = pd.concat(test_groups)\n",
    "\n",
    "# Displaying the shape of the training and test sets\n",
    "train_df_shape = train_df.shape\n",
    "test_df_shape = test_df.shape\n",
    "\n",
    "train_df_shape, test_df_shape"
   ]
  },
  {
   "cell_type": "code",
   "execution_count": null,
   "metadata": {
    "colab": {
     "base_uri": "https://localhost:8080/"
    },
    "id": "Oc4wEbCfSn1l",
    "outputId": "d77f8f5d-70c1-4756-ace2-8de49fd75bb1"
   },
   "outputs": [
    {
     "data": {
      "text/plain": [
       "array(['subject1', 'subject9', 'subject3', 'subject5', 'subject4',\n",
       "       'subject7'], dtype=object)"
      ]
     },
     "execution_count": 8,
     "metadata": {},
     "output_type": "execute_result"
    }
   ],
   "source": [
    "train_df['subject'].unique()"
   ]
  },
  {
   "cell_type": "code",
   "execution_count": null,
   "metadata": {
    "colab": {
     "base_uri": "https://localhost:8080/"
    },
    "id": "FvJXCJtHVERr",
    "outputId": "d2e95efe-87b7-4893-dcbc-c727b48b6533"
   },
   "outputs": [
    {
     "data": {
      "text/plain": [
       "array([ 0,  1,  2,  3,  4,  6,  7,  8,  9, 10, 11, 12,  5])"
      ]
     },
     "execution_count": 9,
     "metadata": {},
     "output_type": "execute_result"
    }
   ],
   "source": [
    "train_df['Activity'].unique()"
   ]
  },
  {
   "cell_type": "code",
   "execution_count": null,
   "metadata": {
    "colab": {
     "base_uri": "https://localhost:8080/"
    },
    "id": "19tDx8SwTFd2",
    "outputId": "fa7bb1ec-13a9-4733-903e-e5574637d2a7"
   },
   "outputs": [
    {
     "data": {
      "text/plain": [
       "array(['subject8', 'subject2', 'subject6'], dtype=object)"
      ]
     },
     "execution_count": 10,
     "metadata": {},
     "output_type": "execute_result"
    }
   ],
   "source": [
    "test_df['subject'].unique()"
   ]
  },
  {
   "cell_type": "code",
   "execution_count": null,
   "metadata": {
    "colab": {
     "base_uri": "https://localhost:8080/"
    },
    "id": "dhbFk8TJVBrR",
    "outputId": "d771c0cf-2dee-464a-dceb-83998d16be7c"
   },
   "outputs": [
    {
     "data": {
      "text/plain": [
       "array([ 0,  1,  3,  2,  4,  5,  6,  7,  8,  9, 10, 11, 12])"
      ]
     },
     "execution_count": 11,
     "metadata": {},
     "output_type": "execute_result"
    }
   ],
   "source": [
    "test_df['Activity'].unique()"
   ]
  },
  {
   "cell_type": "code",
   "execution_count": 4,
   "metadata": {
    "colab": {
     "base_uri": "https://localhost:8080/",
     "height": 444
    },
    "id": "4igPBqQZTuQ0",
    "outputId": "e7fc40ab-daac-4042-cbd0-36df1acbba9c"
   },
   "outputs": [
    {
     "data": {
      "text/html": [
       "<div>\n",
       "<style scoped>\n",
       "    .dataframe tbody tr th:only-of-type {\n",
       "        vertical-align: middle;\n",
       "    }\n",
       "\n",
       "    .dataframe tbody tr th {\n",
       "        vertical-align: top;\n",
       "    }\n",
       "\n",
       "    .dataframe thead th {\n",
       "        text-align: right;\n",
       "    }\n",
       "</style>\n",
       "<table border=\"1\" class=\"dataframe\">\n",
       "  <thead>\n",
       "    <tr style=\"text-align: right;\">\n",
       "      <th></th>\n",
       "      <th>alx</th>\n",
       "      <th>aly</th>\n",
       "      <th>alz</th>\n",
       "      <th>glx</th>\n",
       "      <th>gly</th>\n",
       "      <th>glz</th>\n",
       "      <th>arx</th>\n",
       "      <th>ary</th>\n",
       "      <th>arz</th>\n",
       "      <th>grx</th>\n",
       "      <th>gry</th>\n",
       "      <th>grz</th>\n",
       "      <th>Activity</th>\n",
       "      <th>subject</th>\n",
       "    </tr>\n",
       "  </thead>\n",
       "  <tbody>\n",
       "    <tr>\n",
       "      <th>0</th>\n",
       "      <td>0.260284</td>\n",
       "      <td>-0.008963</td>\n",
       "      <td>0.284976</td>\n",
       "      <td>0.292652</td>\n",
       "      <td>-0.642182</td>\n",
       "      <td>-1.053826</td>\n",
       "      <td>-1.128355</td>\n",
       "      <td>0.230450</td>\n",
       "      <td>-0.676806</td>\n",
       "      <td>-0.310249</td>\n",
       "      <td>-1.021454</td>\n",
       "      <td>-0.512038</td>\n",
       "      <td>0</td>\n",
       "      <td>subject1</td>\n",
       "    </tr>\n",
       "    <tr>\n",
       "      <th>1</th>\n",
       "      <td>0.312098</td>\n",
       "      <td>0.037282</td>\n",
       "      <td>0.294980</td>\n",
       "      <td>0.254863</td>\n",
       "      <td>-0.636432</td>\n",
       "      <td>-1.046685</td>\n",
       "      <td>-1.123735</td>\n",
       "      <td>0.276412</td>\n",
       "      <td>-0.719443</td>\n",
       "      <td>-0.310249</td>\n",
       "      <td>-1.021454</td>\n",
       "      <td>-0.512038</td>\n",
       "      <td>0</td>\n",
       "      <td>subject1</td>\n",
       "    </tr>\n",
       "    <tr>\n",
       "      <th>2</th>\n",
       "      <td>0.317466</td>\n",
       "      <td>0.022725</td>\n",
       "      <td>0.294461</td>\n",
       "      <td>0.254863</td>\n",
       "      <td>-0.636432</td>\n",
       "      <td>-1.046685</td>\n",
       "      <td>-1.098577</td>\n",
       "      <td>0.283992</td>\n",
       "      <td>-0.653961</td>\n",
       "      <td>-0.310249</td>\n",
       "      <td>-1.021454</td>\n",
       "      <td>-0.512038</td>\n",
       "      <td>0</td>\n",
       "      <td>subject1</td>\n",
       "    </tr>\n",
       "    <tr>\n",
       "      <th>3</th>\n",
       "      <td>0.259389</td>\n",
       "      <td>0.056373</td>\n",
       "      <td>0.269822</td>\n",
       "      <td>0.254863</td>\n",
       "      <td>-0.636432</td>\n",
       "      <td>-1.046685</td>\n",
       "      <td>-1.123818</td>\n",
       "      <td>0.277034</td>\n",
       "      <td>-0.630118</td>\n",
       "      <td>-0.324322</td>\n",
       "      <td>-1.017632</td>\n",
       "      <td>-0.527888</td>\n",
       "      <td>0</td>\n",
       "      <td>subject1</td>\n",
       "    </tr>\n",
       "    <tr>\n",
       "      <th>4</th>\n",
       "      <td>0.319690</td>\n",
       "      <td>0.066471</td>\n",
       "      <td>0.300083</td>\n",
       "      <td>0.254863</td>\n",
       "      <td>-0.636432</td>\n",
       "      <td>-1.046685</td>\n",
       "      <td>-1.138851</td>\n",
       "      <td>0.307355</td>\n",
       "      <td>-0.619789</td>\n",
       "      <td>-0.324322</td>\n",
       "      <td>-1.017632</td>\n",
       "      <td>-0.527888</td>\n",
       "      <td>0</td>\n",
       "      <td>subject1</td>\n",
       "    </tr>\n",
       "    <tr>\n",
       "      <th>...</th>\n",
       "      <td>...</td>\n",
       "      <td>...</td>\n",
       "      <td>...</td>\n",
       "      <td>...</td>\n",
       "      <td>...</td>\n",
       "      <td>...</td>\n",
       "      <td>...</td>\n",
       "      <td>...</td>\n",
       "      <td>...</td>\n",
       "      <td>...</td>\n",
       "      <td>...</td>\n",
       "      <td>...</td>\n",
       "      <td>...</td>\n",
       "      <td>...</td>\n",
       "    </tr>\n",
       "    <tr>\n",
       "      <th>195</th>\n",
       "      <td>0.104639</td>\n",
       "      <td>0.018755</td>\n",
       "      <td>0.176990</td>\n",
       "      <td>0.171746</td>\n",
       "      <td>-0.590522</td>\n",
       "      <td>-1.125232</td>\n",
       "      <td>-1.228926</td>\n",
       "      <td>0.441947</td>\n",
       "      <td>-0.712773</td>\n",
       "      <td>-0.384167</td>\n",
       "      <td>-1.013992</td>\n",
       "      <td>-0.539774</td>\n",
       "      <td>0</td>\n",
       "      <td>subject1</td>\n",
       "    </tr>\n",
       "    <tr>\n",
       "      <th>196</th>\n",
       "      <td>0.100166</td>\n",
       "      <td>-0.022173</td>\n",
       "      <td>0.200887</td>\n",
       "      <td>0.167969</td>\n",
       "      <td>-0.550362</td>\n",
       "      <td>-1.125232</td>\n",
       "      <td>-1.209067</td>\n",
       "      <td>0.427392</td>\n",
       "      <td>-0.759828</td>\n",
       "      <td>-0.384167</td>\n",
       "      <td>-1.013992</td>\n",
       "      <td>-0.539774</td>\n",
       "      <td>0</td>\n",
       "      <td>subject1</td>\n",
       "    </tr>\n",
       "    <tr>\n",
       "      <th>197</th>\n",
       "      <td>0.133447</td>\n",
       "      <td>0.021328</td>\n",
       "      <td>0.187110</td>\n",
       "      <td>0.167969</td>\n",
       "      <td>-0.550362</td>\n",
       "      <td>-1.125232</td>\n",
       "      <td>-1.203891</td>\n",
       "      <td>0.434776</td>\n",
       "      <td>-0.721413</td>\n",
       "      <td>-0.384167</td>\n",
       "      <td>-1.013992</td>\n",
       "      <td>-0.539774</td>\n",
       "      <td>0</td>\n",
       "      <td>subject1</td>\n",
       "    </tr>\n",
       "    <tr>\n",
       "      <th>198</th>\n",
       "      <td>0.160133</td>\n",
       "      <td>-0.009968</td>\n",
       "      <td>0.207685</td>\n",
       "      <td>0.167969</td>\n",
       "      <td>-0.550362</td>\n",
       "      <td>-1.125232</td>\n",
       "      <td>-1.155884</td>\n",
       "      <td>0.439919</td>\n",
       "      <td>-0.748091</td>\n",
       "      <td>-0.363040</td>\n",
       "      <td>-0.972804</td>\n",
       "      <td>-0.567512</td>\n",
       "      <td>0</td>\n",
       "      <td>subject1</td>\n",
       "    </tr>\n",
       "    <tr>\n",
       "      <th>199</th>\n",
       "      <td>0.186334</td>\n",
       "      <td>0.004859</td>\n",
       "      <td>0.228067</td>\n",
       "      <td>0.167969</td>\n",
       "      <td>-0.550362</td>\n",
       "      <td>-1.125232</td>\n",
       "      <td>-1.216635</td>\n",
       "      <td>0.463247</td>\n",
       "      <td>-0.719334</td>\n",
       "      <td>-0.363040</td>\n",
       "      <td>-0.972804</td>\n",
       "      <td>-0.567512</td>\n",
       "      <td>0</td>\n",
       "      <td>subject1</td>\n",
       "    </tr>\n",
       "  </tbody>\n",
       "</table>\n",
       "<p>200 rows × 14 columns</p>\n",
       "</div>"
      ],
      "text/plain": [
       "          alx       aly       alz       glx       gly       glz       arx  \\\n",
       "0    0.260284 -0.008963  0.284976  0.292652 -0.642182 -1.053826 -1.128355   \n",
       "1    0.312098  0.037282  0.294980  0.254863 -0.636432 -1.046685 -1.123735   \n",
       "2    0.317466  0.022725  0.294461  0.254863 -0.636432 -1.046685 -1.098577   \n",
       "3    0.259389  0.056373  0.269822  0.254863 -0.636432 -1.046685 -1.123818   \n",
       "4    0.319690  0.066471  0.300083  0.254863 -0.636432 -1.046685 -1.138851   \n",
       "..        ...       ...       ...       ...       ...       ...       ...   \n",
       "195  0.104639  0.018755  0.176990  0.171746 -0.590522 -1.125232 -1.228926   \n",
       "196  0.100166 -0.022173  0.200887  0.167969 -0.550362 -1.125232 -1.209067   \n",
       "197  0.133447  0.021328  0.187110  0.167969 -0.550362 -1.125232 -1.203891   \n",
       "198  0.160133 -0.009968  0.207685  0.167969 -0.550362 -1.125232 -1.155884   \n",
       "199  0.186334  0.004859  0.228067  0.167969 -0.550362 -1.125232 -1.216635   \n",
       "\n",
       "          ary       arz       grx       gry       grz  Activity   subject  \n",
       "0    0.230450 -0.676806 -0.310249 -1.021454 -0.512038         0  subject1  \n",
       "1    0.276412 -0.719443 -0.310249 -1.021454 -0.512038         0  subject1  \n",
       "2    0.283992 -0.653961 -0.310249 -1.021454 -0.512038         0  subject1  \n",
       "3    0.277034 -0.630118 -0.324322 -1.017632 -0.527888         0  subject1  \n",
       "4    0.307355 -0.619789 -0.324322 -1.017632 -0.527888         0  subject1  \n",
       "..        ...       ...       ...       ...       ...       ...       ...  \n",
       "195  0.441947 -0.712773 -0.384167 -1.013992 -0.539774         0  subject1  \n",
       "196  0.427392 -0.759828 -0.384167 -1.013992 -0.539774         0  subject1  \n",
       "197  0.434776 -0.721413 -0.384167 -1.013992 -0.539774         0  subject1  \n",
       "198  0.439919 -0.748091 -0.363040 -0.972804 -0.567512         0  subject1  \n",
       "199  0.463247 -0.719334 -0.363040 -0.972804 -0.567512         0  subject1  \n",
       "\n",
       "[200 rows x 14 columns]"
      ]
     },
     "execution_count": 4,
     "metadata": {},
     "output_type": "execute_result"
    }
   ],
   "source": [
    "numerical_columns = train_df.select_dtypes(include=['float64']).columns.tolist()\n",
    "\n",
    "# Initializing the StandardScaler\n",
    "scaler = StandardScaler()\n",
    "\n",
    "# Fitting the scaler to the training data and transforming both training and test data\n",
    "train_df[numerical_columns] = scaler.fit_transform(train_df[numerical_columns])\n",
    "test_df[numerical_columns] = scaler.transform(test_df[numerical_columns])\n",
    "\n",
    "# Checking the first few rows of the normalized training data\n",
    "train_df.head(n=200)"
   ]
  },
  {
   "cell_type": "code",
   "execution_count": 5,
   "metadata": {},
   "outputs": [
    {
     "data": {
      "text/plain": [
       "((6421, 100, 12), (6421,), (3578, 100, 12), (3578,))"
      ]
     },
     "execution_count": 5,
     "metadata": {},
     "output_type": "execute_result"
    }
   ],
   "source": [
    "sensor_columns = ['alx','aly','alz','glx','gly','glz','arx','ary','arz','grx','gry','grz']\n",
    "\n",
    "def create_sequences(data, sequence_length=100):\n",
    "    sequences = []\n",
    "    output = []\n",
    "    for i in range(0, len(data) - sequence_length + 1, sequence_length):\n",
    "        sequence = data[i:i + sequence_length]\n",
    "        # Assuming 'Activity' is the target variable and is the same for the entire sequence\n",
    "        label = sequence['Activity'].iloc[0]  \n",
    "        sequences.append(sequence[sensor_columns].values)\n",
    "        output.append(label)\n",
    "\n",
    "    return np.array(sequences), np.array(output)\n",
    "\n",
    "# Creating sequences for training and test data\n",
    "X_train, y_train = create_sequences(train_df, sequence_length=100)\n",
    "X_test, y_test = create_sequences(test_df, sequence_length=100)\n",
    "\n",
    "X_train.shape, y_train.shape, X_test.shape, y_test.shape\n"
   ]
  },
  {
   "cell_type": "code",
   "execution_count": 6,
   "metadata": {},
   "outputs": [
    {
     "name": "stdout",
     "output_type": "stream",
     "text": [
      "Counter({0: 4639, 1: 184, 2: 164, 6: 156, 4: 154, 7: 154, 9: 154, 10: 154, 8: 153, 11: 153, 5: 153, 3: 152, 12: 51})\n"
     ]
    }
   ],
   "source": [
    "from collections import Counter\n",
    "\n",
    "# Calculate class distribution\n",
    "class_distribution = Counter(y_train)\n",
    "\n",
    "# Print the class distribution\n",
    "print(class_distribution)\n"
   ]
  },
  {
   "cell_type": "code",
   "execution_count": 7,
   "metadata": {},
   "outputs": [
    {
     "name": "stdout",
     "output_type": "stream",
     "text": [
      "{0.0: 4639, 1.0: 4639, 2.0: 4639, 3.0: 4639, 4.0: 4639, 5.0: 4639, 6.0: 4639, 7.0: 4639, 8.0: 4639, 9.0: 4639, 10.0: 4639, 11.0: 4639, 12.0: 4639}\n",
      "(60307, 100, 12) (60307,)\n"
     ]
    }
   ],
   "source": [
    "from sklearn.utils import resample\n",
    "\n",
    "counts = [class_distribution.get(i, 0) for i in range(max(class_distribution.keys()) + 1)]\n",
    "target_count = np.max(counts)  # Using the max count of Activity 0\n",
    "\n",
    "# Separate sequences for \"Activity 0\"\n",
    "act_0_seq = X_train[y_train == 0]\n",
    "act_1_seq = X_train[y_train == 1]\n",
    "act_2_seq = X_train[y_train == 2]\n",
    "act_3_seq = X_train[y_train == 3]\n",
    "act_4_seq = X_train[y_train == 4]\n",
    "act_5_seq = X_train[y_train == 5]\n",
    "act_6_seq = X_train[y_train == 6]\n",
    "act_7_seq = X_train[y_train == 7]\n",
    "act_8_seq = X_train[y_train == 8]\n",
    "act_9_seq = X_train[y_train == 9]\n",
    "act_10_seq = X_train[y_train == 10]\n",
    "act_11_seq = X_train[y_train == 11]\n",
    "act_12_seq = X_train[y_train == 12]\n",
    "\n",
    "other_act_seq = X_train[y_train != 0]\n",
    "\n",
    "# Also separate the labels\n",
    "act_0_labels = y_train[y_train == 0]\n",
    "act_1_labels = y_train[y_train == 1]\n",
    "act_2_labels = y_train[y_train == 2]\n",
    "act_3_labels = y_train[y_train == 3]\n",
    "act_4_labels = y_train[y_train == 4]\n",
    "act_5_labels = y_train[y_train == 5]\n",
    "act_6_labels = y_train[y_train == 6]\n",
    "act_7_labels = y_train[y_train == 7]\n",
    "act_8_labels = y_train[y_train == 8]\n",
    "act_9_labels = y_train[y_train == 9]\n",
    "act_10_labels = y_train[y_train == 10]\n",
    "act_11_labels = y_train[y_train == 11]\n",
    "act_12_labels = y_train[y_train == 12]\n",
    "\n",
    "other_act_labels = y_train[y_train != 0]\n",
    "\n",
    "# Perform oversampling for all Activities not = 0\n",
    "\n",
    "act_1_seq_bal = resample(act_1_seq, replace=True, n_samples=int(target_count), random_state=42)\n",
    "act_2_seq_bal = resample(act_2_seq, replace=True, n_samples=int(target_count), random_state=42)\n",
    "act_3_seq_bal = resample(act_3_seq, replace=True, n_samples=int(target_count), random_state=42)\n",
    "act_4_seq_bal = resample(act_4_seq, replace=True, n_samples=int(target_count), random_state=42)\n",
    "act_5_seq_bal = resample(act_5_seq, replace=True, n_samples=int(target_count), random_state=42)\n",
    "act_6_seq_bal = resample(act_6_seq, replace=True, n_samples=int(target_count), random_state=42)\n",
    "act_7_seq_bal = resample(act_7_seq, replace=True, n_samples=int(target_count), random_state=42)\n",
    "act_8_seq_bal = resample(act_8_seq, replace=True, n_samples=int(target_count), random_state=42)\n",
    "act_9_seq_bal = resample(act_9_seq, replace=True, n_samples=int(target_count), random_state=42)\n",
    "act_10_seq_bal = resample(act_10_seq, replace=True, n_samples=int(target_count), random_state=42)\n",
    "act_11_seq_bal = resample(act_11_seq, replace=True, n_samples=int(target_count), random_state=42)\n",
    "act_12_seq_bal = resample(act_12_seq, replace=True, n_samples=int(target_count), random_state=42)\n",
    "\n",
    "\n",
    "act_0_labels_bal = np.zeros(int(target_count))\n",
    "act_1_labels_bal = np.ones(int(target_count))\n",
    "act_2_labels_bal = 2*np.ones(int(target_count))\n",
    "act_3_labels_bal = 3*np.ones(int(target_count))\n",
    "act_4_labels_bal = 4*np.ones(int(target_count))\n",
    "act_5_labels_bal = 5*np.ones(int(target_count))\n",
    "act_6_labels_bal = 6*np.ones(int(target_count))\n",
    "act_7_labels_bal = 7*np.ones(int(target_count))\n",
    "act_8_labels_bal = 8*np.ones(int(target_count))\n",
    "act_9_labels_bal = 9*np.ones(int(target_count))\n",
    "act_10_labels_bal = 10*np.ones(int(target_count))\n",
    "act_11_labels_bal = 11*np.ones(int(target_count))\n",
    "act_12_labels_bal = 12*np.ones(int(target_count))\n",
    "\n",
    "\n",
    "\n",
    "# Combine the undersampled data with the other activities\n",
    "X_train_bal = np.concatenate((act_0_seq, act_1_seq_bal, act_2_seq_bal,act_3_seq_bal,act_4_seq_bal, act_5_seq_bal, act_6_seq_bal, act_7_seq_bal, act_8_seq_bal, act_9_seq_bal, act_10_seq_bal, act_11_seq_bal, act_12_seq_bal))\n",
    "y_train_bal = np.concatenate((act_0_labels, act_1_labels_bal, act_2_labels_bal, act_3_labels_bal, act_4_labels_bal, act_5_labels_bal, act_6_labels_bal, act_7_labels_bal, act_8_labels_bal, act_9_labels_bal, act_10_labels_bal,act_11_labels_bal, act_12_labels_bal))\n",
    "\n",
    "# Check the new distribution\n",
    "unique_balanced, counts_balanced = np.unique(y_train_bal, return_counts=True)\n",
    "new_class_distribution = dict(zip(unique_balanced, counts_balanced))\n",
    "print(new_class_distribution)\n",
    "\n",
    "# Validate the shapes\n",
    "print(X_train_bal.shape, y_train_bal.shape)"
   ]
  },
  {
   "cell_type": "markdown",
   "metadata": {},
   "source": [
    "# KNN"
   ]
  },
  {
   "cell_type": "code",
   "execution_count": 8,
   "metadata": {},
   "outputs": [
    {
     "name": "stdout",
     "output_type": "stream",
     "text": [
      "Epoch 0/20 ---> Train Accuracy: 60.81549405541645%, Validation Accuracy: 13.471212968138625%\n",
      "Epoch 1/20 ---> Train Accuracy: 76.08072031439137%, Validation Accuracy: 16.433761878144214%\n",
      "Epoch 2/20 ---> Train Accuracy: 81.65387102658066%, Validation Accuracy: 24.538848518725544%\n",
      "Epoch 3/20 ---> Train Accuracy: 70.40476229956721%, Validation Accuracy: 27.249860257126887%\n",
      "Epoch 4/20 ---> Train Accuracy: 73.81730147412406%, Validation Accuracy: 13.83454443823365%\n",
      "Epoch 5/20 ---> Train Accuracy: 82.23589301407797%, Validation Accuracy: 25.768585802124093%\n",
      "Epoch 6/20 ---> Train Accuracy: 80.40525975425739%, Validation Accuracy: 22.13527110117384%\n",
      "Epoch 7/20 ---> Train Accuracy: 78.34413915465866%, Validation Accuracy: 22.191168250419228%\n",
      "Epoch 8/20 ---> Train Accuracy: 87.69462914752847%, Validation Accuracy: 26.27166014533259%\n",
      "Epoch 9/20 ---> Train Accuracy: 79.36392126950437%, Validation Accuracy: 22.72219116825042%\n",
      "Epoch 10/20 ---> Train Accuracy: 87.44092725554248%, Validation Accuracy: 22.72219116825042%\n",
      "Epoch 11/20 ---> Train Accuracy: 79.45512129603529%, Validation Accuracy: 30.15651201788709%\n",
      "Epoch 12/20 ---> Train Accuracy: 91.62286301756015%, Validation Accuracy: 35.49468977082169%\n",
      "Epoch 13/20 ---> Train Accuracy: 91.8351103520321%, Validation Accuracy: 37.45108999441028%\n",
      "Epoch 14/20 ---> Train Accuracy: 86.97000348218283%, Validation Accuracy: 31.69368362213527%\n",
      "Epoch 15/20 ---> Train Accuracy: 84.03999535708955%, Validation Accuracy: 25.656791503633315%\n",
      "Epoch 16/20 ---> Train Accuracy: 90.97119737343924%, Validation Accuracy: 35.01956400223589%\n",
      "Epoch 17/20 ---> Train Accuracy: 89.68942245510472%, Validation Accuracy: 34.9357182783678%\n",
      "Epoch 18/20 ---> Train Accuracy: 78.81837929261943%, Validation Accuracy: 30.547792062604806%\n",
      "Epoch 19/20 ---> Train Accuracy: 89.76404065863001%, Validation Accuracy: 31.74958077138066%\n"
     ]
    }
   ],
   "source": [
    "import torch as t\n",
    "import torch.nn as nn\n",
    "from torch.optim import Adam\n",
    "from torch.utils.data import TensorDataset, DataLoader\n",
    "\n",
    "# Hyperparameters\n",
    "input_size = 12  # Number of features in each timestep\n",
    "hidden_size = 256  # Number of hidden units in RNN\n",
    "num_classes = len(np.unique(y_train_bal))  # Number of unique classes\n",
    "epochs = 20\n",
    "learning_rate = 0.001\n",
    "batch_size = 512\n",
    "landa = 0.001  # Regularization term (lambda)\n",
    "\n",
    "# Data preparation\n",
    "train_dataset = TensorDataset(t.tensor(X_train_bal, dtype=t.float32), t.tensor(y_train_bal, dtype=t.long))\n",
    "train_data_loader = DataLoader(train_dataset, batch_size=batch_size, shuffle=True)\n",
    "\n",
    "test_dataset = TensorDataset(t.tensor(X_test, dtype=t.float32), t.tensor(y_test, dtype=t.long))\n",
    "test_data_loader = DataLoader(test_dataset, batch_size=batch_size, shuffle=False)\n",
    "\n",
    "# RNN layers and additional fully connected layer\n",
    "rnn_layer1 = nn.RNN(input_size, hidden_size, batch_first=True)\n",
    "dropout1 = nn.Dropout(0.5)  # Add dropout between RNN layers\n",
    "# rnn_layer2 = nn.RNN(hidden_size, hidden_size, batch_first=True)\n",
    "# dropout2 = nn.Dropout(0.5)  # Add dropout between RNN layers\n",
    "fc_layer1 = nn.Linear(hidden_size, hidden_size // 2)  # Additional fully connected layer\n",
    "fc_layer2 = nn.Linear(hidden_size  // 2, num_classes)  # Final output layer\n",
    "\n",
    "# Dropout layer\n",
    "dropout_fc = nn.Dropout(0.2)  # Add dropout between fully connected layers\n",
    "\n",
    "# Activation function\n",
    "relu = nn.ReLU()\n",
    "\n",
    "# Loss function and optimizer\n",
    "loss_fn = nn.CrossEntropyLoss()\n",
    "# optimizer = Adam(list(rnn_layer1.parameters()) + list(rnn_layer2.parameters()) + list(fc_layer1.parameters()) + list(fc_layer2.parameters()), lr=learning_rate)\n",
    "# optimizer = Adam(list(rnn_layer1.parameters())+ list(fc_layer1.parameters()) + list(fc_layer2.parameters()), lr=learning_rate)\n",
    "\n",
    "# Lists to store accuracies and losses\n",
    "all_loss = []\n",
    "train_accuracy_list = []\n",
    "validation_accuracy_list = []\n",
    "train_loss_list = []\n",
    "\n",
    "# Training loop\n",
    "for epoch in range(epochs):\n",
    "\n",
    "    if epoch % 10 == 0:\n",
    "        learning_rate *= 0.9  # Learning rate scheduling\n",
    "\n",
    "    optimizer = Adam(list(rnn_layer1.parameters())+ list(fc_layer1.parameters()) + list(fc_layer2.parameters()), lr=learning_rate)\n",
    "\n",
    "    per_epoch_loss_list = []\n",
    "    for X, Y in train_data_loader:\n",
    "        # Forward pass through layers\n",
    "        out, _ = rnn_layer1(X)\n",
    "        out = dropout1(out)  # Apply dropout between RNN layers\n",
    "        # out, _ = rnn_layer2(out)\n",
    "        # out = dropout2(out)  # Apply dropout between RNN layers\n",
    "        out = out[:, -1, :]  # Get the last output of the sequence\n",
    "        out = relu(fc_layer1(out))  # Apply activation function after first fully connected layer\n",
    "        out = dropout_fc(out)  # Apply dropout between fully connected layers\n",
    "        out = fc_layer2(out)\n",
    "\n",
    "        # Regularization\n",
    "        # l2_term = sum([(w ** 2).sum() for w in list(rnn_layer1.parameters()) + list(rnn_layer2.parameters()) + list(fc_layer1.parameters()) + list(fc_layer2.parameters())])\n",
    "        # l2_term = sum([(w ** 2).sum() for w in list(rnn_layer1.parameters()) + list(fc_layer1.parameters()) + list(fc_layer2.parameters())])\n",
    "        # loss = loss_fn(out, Y) + landa * l2_term\n",
    "        loss = loss_fn(out, Y)\n",
    "        per_epoch_loss_list.append(loss.item())\n",
    "\n",
    "        # Backward pass and optimization\n",
    "        optimizer.zero_grad()\n",
    "        loss.backward()\n",
    "        optimizer.step()\n",
    "\n",
    "        # max_iter -=1\n",
    "        # if max_iter == 0:\n",
    "        #     break\n",
    "    all_loss += per_epoch_loss_list\n",
    "\n",
    "    # Evaluation on training and validation data\n",
    "    rnn_layer1.eval()\n",
    "    # rnn_layer2.eval()\n",
    "    fc_layer1.eval()\n",
    "    fc_layer2.eval()\n",
    "\n",
    "    with t.no_grad():\n",
    "        # Training data\n",
    "        train_correct, train_total = 0, 0\n",
    "        for X, Y in train_data_loader:\n",
    "            out, _ = rnn_layer1(X)\n",
    "            # out, _ = rnn_layer2(out)\n",
    "            out = out[:, -1, :]\n",
    "            out = relu(fc_layer1(out))\n",
    "            out = fc_layer2(out)\n",
    "            _, predicted = t.max(out.data, 1)\n",
    "            train_total += Y.size(0)\n",
    "            train_correct += (predicted == Y).sum().item()\n",
    "        train_accuracy = 100 * train_correct / train_total\n",
    "\n",
    "        # Validation data\n",
    "        validation_correct, validation_total = 0, 0\n",
    "        for X, Y in test_data_loader:\n",
    "            out, _ = rnn_layer1(X)\n",
    "            # out, _ = rnn_layer2(out)\n",
    "            out = out[:, -1, :]\n",
    "            out = relu(fc_layer1(out))\n",
    "            out = fc_layer2(out)\n",
    "            _, predicted = t.max(out.data, 1)\n",
    "            validation_total += Y.size(0)\n",
    "            validation_correct += (predicted == Y).sum().item()\n",
    "        validation_accuracy = 100 * validation_correct / validation_total\n",
    "\n",
    "        # Print accuracy for the current epoch\n",
    "        print(f'Epoch {epoch}/{epochs} ---> Train Accuracy: {train_accuracy}%, Validation Accuracy: {validation_accuracy}%')\n",
    "\n",
    "        # Append accuracy values to lists\n",
    "        train_accuracy_list.append(train_accuracy)\n",
    "        validation_accuracy_list.append(validation_accuracy)\n",
    "\n",
    "    # Calculate and append the average loss for the epoch\n",
    "    train_loss_list.append(sum(per_epoch_loss_list) / len(per_epoch_loss_list))\n",
    "\n",
    "    # Set the model back to train mode\n",
    "    rnn_layer1.train()\n",
    "    # rnn_layer2.train()\n",
    "    fc_layer1.train()\n",
    "    fc_layer2.train()\n"
   ]
  },
  {
   "cell_type": "code",
   "execution_count": 9,
   "metadata": {
    "id": "sLZfa5E718Cq"
   },
   "outputs": [
    {
     "name": "stdout",
     "output_type": "stream",
     "text": [
      "Epoch 0/20 ---> Train Accuracy: 72.988210323843%, Validation Accuracy: 14.728898826159865%\n",
      "Epoch 1/20 ---> Train Accuracy: 66.63737211269007%, Validation Accuracy: 13.024035774175516%\n",
      "Epoch 2/20 ---> Train Accuracy: 37.65400368116471%, Validation Accuracy: 7.266629401900503%\n",
      "Epoch 3/20 ---> Train Accuracy: 54.7150413716484%, Validation Accuracy: 13.750698714365567%\n",
      "Epoch 4/20 ---> Train Accuracy: 78.15013182549289%, Validation Accuracy: 19.536053661263274%\n",
      "Epoch 5/20 ---> Train Accuracy: 79.90448869948762%, Validation Accuracy: 23.169368362213525%\n",
      "Epoch 6/20 ---> Train Accuracy: 85.11615567015437%, Validation Accuracy: 30.799329234209054%\n",
      "Epoch 7/20 ---> Train Accuracy: 75.94972391264696%, Validation Accuracy: 22.47065399664617%\n",
      "Epoch 8/20 ---> Train Accuracy: 85.23886116039597%, Validation Accuracy: 27.501397428731135%\n",
      "Epoch 9/20 ---> Train Accuracy: 75.05430547034341%, Validation Accuracy: 20.57015092230296%\n",
      "Epoch 10/20 ---> Train Accuracy: 83.3286351501484%, Validation Accuracy: 26.187814421464505%\n",
      "Epoch 11/20 ---> Train Accuracy: 74.51871258726185%, Validation Accuracy: 27.166014533258803%\n",
      "Epoch 12/20 ---> Train Accuracy: 83.4165188120782%, Validation Accuracy: 26.41140301844606%\n",
      "Epoch 13/20 ---> Train Accuracy: 92.0191685873945%, Validation Accuracy: 37.50698714365567%\n",
      "Epoch 14/20 ---> Train Accuracy: 87.00814167509576%, Validation Accuracy: 34.264952487423145%\n",
      "Epoch 15/20 ---> Train Accuracy: 71.24048617905052%, Validation Accuracy: 32.47624371157071%\n",
      "Epoch 16/20 ---> Train Accuracy: 92.60782330409405%, Validation Accuracy: 38.8205701509223%\n",
      "Epoch 17/20 ---> Train Accuracy: 88.37945843766063%, Validation Accuracy: 36.69647847959754%\n",
      "Epoch 18/20 ---> Train Accuracy: 75.84360024541098%, Validation Accuracy: 24.482951369480155%\n",
      "Epoch 19/20 ---> Train Accuracy: 81.3238927487688%, Validation Accuracy: 21.827836780324205%\n"
     ]
    }
   ],
   "source": [
    "import torch as t\n",
    "import torch.nn as nn\n",
    "from torch.optim import Adam\n",
    "from torch.utils.data import TensorDataset, DataLoader\n",
    "\n",
    "# Hyperparameters\n",
    "input_size = 12  # Number of features in each timestep\n",
    "hidden_size = 256  # Number of hidden units in RNN\n",
    "num_classes = len(np.unique(y_train_bal))  # Number of unique classes\n",
    "epochs = 20\n",
    "learning_rate = 0.001\n",
    "batch_size = 512\n",
    "landa = 0.001  # Regularization term (lambda)\n",
    "\n",
    "# Data preparation\n",
    "train_dataset = TensorDataset(t.tensor(X_train_bal, dtype=t.float32), t.tensor(y_train_bal, dtype=t.long))\n",
    "train_data_loader = DataLoader(train_dataset, batch_size=batch_size, shuffle=True)\n",
    "\n",
    "test_dataset = TensorDataset(t.tensor(X_test, dtype=t.float32), t.tensor(y_test, dtype=t.long))\n",
    "test_data_loader = DataLoader(test_dataset, batch_size=batch_size, shuffle=False)\n",
    "\n",
    "# RNN layers and additional fully connected layer\n",
    "rnn_layer1 = nn.RNN(input_size, hidden_size, batch_first=True)\n",
    "dropout1 = nn.Dropout(0.5)  # Add dropout between RNN layers\n",
    "rnn_layer2 = nn.RNN(hidden_size, hidden_size, batch_first=True)\n",
    "dropout2 = nn.Dropout(0.5)  # Add dropout between RNN layers\n",
    "fc_layer1 = nn.Linear(hidden_size, hidden_size // 2)  # Additional fully connected layer\n",
    "fc_layer2 = nn.Linear(hidden_size  // 2, num_classes)  # Final output layer\n",
    "\n",
    "# Dropout layer\n",
    "dropout_fc = nn.Dropout(0.2)  # Add dropout between fully connected layers\n",
    "\n",
    "# Activation function\n",
    "relu = nn.ReLU()\n",
    "\n",
    "# Loss function and optimizer\n",
    "loss_fn = nn.CrossEntropyLoss()\n",
    "# optimizer = Adam(list(rnn_layer1.parameters()) + list(rnn_layer2.parameters()) + list(fc_layer1.parameters()) + list(fc_layer2.parameters()), lr=learning_rate)\n",
    "# optimizer = Adam(list(rnn_layer1.parameters())+ list(fc_layer1.parameters()) + list(fc_layer2.parameters()), lr=learning_rate)\n",
    "\n",
    "# Lists to store accuracies and losses\n",
    "all_loss = []\n",
    "train_accuracy_list = []\n",
    "validation_accuracy_list = []\n",
    "train_loss_list = []\n",
    "\n",
    "# Training loop\n",
    "for epoch in range(epochs):\n",
    "\n",
    "    if epoch % 10 == 0:\n",
    "        learning_rate *= 0.9  # Learning rate scheduling\n",
    "\n",
    "    #optimizer = Adam(list(rnn_layer1.parameters())+ list(fc_layer1.parameters()) + list(fc_layer2.parameters()), lr=learning_rate)\n",
    "    optimizer = Adam(list(rnn_layer1.parameters()) + list(rnn_layer2.parameters()) + list(fc_layer1.parameters()) + list(fc_layer2.parameters()), lr=learning_rate)\n",
    "\n",
    "    per_epoch_loss_list = []\n",
    "    for X, Y in train_data_loader:\n",
    "        # Forward pass through layers\n",
    "        out, _ = rnn_layer1(X)\n",
    "        out = dropout1(out)  # Apply dropout between RNN layers\n",
    "        out, _ = rnn_layer2(out)\n",
    "        out = dropout2(out)  # Apply dropout between RNN layers\n",
    "        out = out[:, -1, :]  # Get the last output of the sequence\n",
    "        out = relu(fc_layer1(out))  # Apply activation function after first fully connected layer\n",
    "        out = dropout_fc(out)  # Apply dropout between fully connected layers\n",
    "        out = fc_layer2(out)\n",
    "\n",
    "        # Regularization\n",
    "        l2_term = sum([(w ** 2).sum() for w in list(rnn_layer1.parameters()) + list(rnn_layer2.parameters()) + list(fc_layer1.parameters()) + list(fc_layer2.parameters())])\n",
    "        # l2_term = sum([(w ** 2).sum() for w in list(rnn_layer1.parameters()) + list(fc_layer1.parameters()) + list(fc_layer2.parameters())])\n",
    "        loss = loss_fn(out, Y) + landa * l2_term\n",
    "        # loss = loss_fn(out, Y)\n",
    "        per_epoch_loss_list.append(loss.item())\n",
    "\n",
    "        # Backward pass and optimization\n",
    "        optimizer.zero_grad()\n",
    "        loss.backward()\n",
    "        optimizer.step()\n",
    "\n",
    "        # max_iter -=1\n",
    "        # if max_iter == 0:\n",
    "        #     break\n",
    "    all_loss += per_epoch_loss_list\n",
    "\n",
    "    # Evaluation on training and validation data\n",
    "    rnn_layer1.eval()\n",
    "    rnn_layer2.eval()\n",
    "    fc_layer1.eval()\n",
    "    fc_layer2.eval()\n",
    "\n",
    "    with t.no_grad():\n",
    "        # Training data\n",
    "        train_correct, train_total = 0, 0\n",
    "        for X, Y in train_data_loader:\n",
    "            out, _ = rnn_layer1(X)\n",
    "            out, _ = rnn_layer2(out)\n",
    "            out = out[:, -1, :]\n",
    "            out = relu(fc_layer1(out))\n",
    "            out = fc_layer2(out)\n",
    "            _, predicted = t.max(out.data, 1)\n",
    "            train_total += Y.size(0)\n",
    "            train_correct += (predicted == Y).sum().item()\n",
    "        train_accuracy = 100 * train_correct / train_total\n",
    "\n",
    "        # Validation data\n",
    "        validation_correct, validation_total = 0, 0\n",
    "        for X, Y in test_data_loader:\n",
    "            out, _ = rnn_layer1(X)\n",
    "            out, _ = rnn_layer2(out)\n",
    "            out = out[:, -1, :]\n",
    "            out = relu(fc_layer1(out))\n",
    "            out = fc_layer2(out)\n",
    "            _, predicted = t.max(out.data, 1)\n",
    "            validation_total += Y.size(0)\n",
    "            validation_correct += (predicted == Y).sum().item()\n",
    "        validation_accuracy = 100 * validation_correct / validation_total\n",
    "\n",
    "        # Print accuracy for the current epoch\n",
    "        print(f'Epoch {epoch}/{epochs} ---> Train Accuracy: {train_accuracy}%, Validation Accuracy: {validation_accuracy}%')\n",
    "\n",
    "        # Append accuracy values to lists\n",
    "        train_accuracy_list.append(train_accuracy)\n",
    "        validation_accuracy_list.append(validation_accuracy)\n",
    "\n",
    "    # Calculate and append the average loss for the epoch\n",
    "    train_loss_list.append(sum(per_epoch_loss_list) / len(per_epoch_loss_list))\n",
    "\n",
    "    # Set the model back to train mode\n",
    "    rnn_layer1.train()\n",
    "    rnn_layer2.train()\n",
    "    fc_layer1.train()\n",
    "    fc_layer2.train()\n"
   ]
  },
  {
   "cell_type": "markdown",
   "metadata": {},
   "source": [
    "# LSTM"
   ]
  },
  {
   "cell_type": "code",
   "execution_count": 10,
   "metadata": {},
   "outputs": [
    {
     "name": "stdout",
     "output_type": "stream",
     "text": [
      "Epoch 0/20 ---> Train Accuracy: 75.8120947817003%, Validation Accuracy: 23.448854108440468%\n",
      "Epoch 1/20 ---> Train Accuracy: 79.83152867826288%, Validation Accuracy: 22.163219675796533%\n",
      "Epoch 2/20 ---> Train Accuracy: 88.65803306415508%, Validation Accuracy: 33.9854667411962%\n",
      "Epoch 3/20 ---> Train Accuracy: 94.39202745949889%, Validation Accuracy: 44.6618222470654%\n",
      "Epoch 4/20 ---> Train Accuracy: 92.79022335715588%, Validation Accuracy: 44.99720514253773%\n",
      "Epoch 5/20 ---> Train Accuracy: 94.65899480988939%, Validation Accuracy: 47.54052543320291%\n",
      "Epoch 6/20 ---> Train Accuracy: 92.67746696071767%, Validation Accuracy: 49.91615427613192%\n",
      "Epoch 7/20 ---> Train Accuracy: 95.98388246803853%, Validation Accuracy: 53.80100614868642%\n",
      "Epoch 8/20 ---> Train Accuracy: 90.69593911154593%, Validation Accuracy: 43.068753493571826%\n",
      "Epoch 9/20 ---> Train Accuracy: 92.70897242442834%, Validation Accuracy: 47.42873113471213%\n",
      "Epoch 10/20 ---> Train Accuracy: 88.87193858092759%, Validation Accuracy: 45.30463946338737%\n",
      "Epoch 11/20 ---> Train Accuracy: 93.29431077652677%, Validation Accuracy: 41.866964784795975%\n",
      "Epoch 12/20 ---> Train Accuracy: 82.81957318387583%, Validation Accuracy: 44.04695360536613%\n",
      "Epoch 13/20 ---> Train Accuracy: 95.67546056013398%, Validation Accuracy: 48.82615986584684%\n",
      "Epoch 14/20 ---> Train Accuracy: 93.9890891604623%, Validation Accuracy: 53.24203465623253%\n",
      "Epoch 15/20 ---> Train Accuracy: 94.89279851426866%, Validation Accuracy: 55.841252096143094%\n",
      "Epoch 16/20 ---> Train Accuracy: 93.48002719418973%, Validation Accuracy: 53.68921185019564%\n",
      "Epoch 17/20 ---> Train Accuracy: 95.68043510703566%, Validation Accuracy: 59.83789826718837%\n",
      "Epoch 18/20 ---> Train Accuracy: 93.7967400135971%, Validation Accuracy: 48.5187255449972%\n",
      "Epoch 19/20 ---> Train Accuracy: 95.10670403104118%, Validation Accuracy: 52.152040245947454%\n"
     ]
    }
   ],
   "source": [
    "import torch as t\n",
    "import torch.nn as nn\n",
    "from torch.optim import Adam\n",
    "from torch.utils.data import TensorDataset, DataLoader\n",
    "\n",
    "# Hyperparameters\n",
    "input_size = 12  # Number of features in each timestep\n",
    "hidden_size = 256  # Number of hidden units in RNN\n",
    "num_classes = len(np.unique(y_train_bal))  # Number of unique classes\n",
    "epochs = 20\n",
    "learning_rate = 0.001\n",
    "batch_size = 512\n",
    "landa = 0.001  # Regularization term (lambda)\n",
    "\n",
    "# Data preparation\n",
    "train_dataset = TensorDataset(t.tensor(X_train_bal, dtype=t.float32), t.tensor(y_train_bal, dtype=t.long))\n",
    "train_data_loader = DataLoader(train_dataset, batch_size=batch_size, shuffle=True)\n",
    "\n",
    "test_dataset = TensorDataset(t.tensor(X_test, dtype=t.float32), t.tensor(y_test, dtype=t.long))\n",
    "test_data_loader = DataLoader(test_dataset, batch_size=batch_size, shuffle=False)\n",
    "\n",
    "# RNN layers and additional fully connected layer\n",
    "rnn_layer1 = nn.LSTM(input_size, hidden_size, batch_first=True)\n",
    "dropout1 = nn.Dropout(0.5)  # Add dropout between RNN layers\n",
    "# rnn_layer2 = nn.LSTM(hidden_size, hidden_size, batch_first=True)\n",
    "# dropout2 = nn.Dropout(0.5)  # Add dropout between RNN layers\n",
    "fc_layer1 = nn.Linear(hidden_size, hidden_size)  # Additional fully connected layer\n",
    "fc_layer2 = nn.Linear(hidden_size, num_classes)  # Final output layer\n",
    "\n",
    "# Dropout layer\n",
    "dropout_fc = nn.Dropout(0.2)  # Add dropout between fully connected layers\n",
    "\n",
    "# Activation function\n",
    "relu = nn.ReLU()\n",
    "\n",
    "# Loss function and optimizer\n",
    "loss_fn = nn.CrossEntropyLoss()\n",
    "# optimizer = Adam(list(rnn_layer1.parameters()) + list(rnn_layer2.parameters()) + list(fc_layer1.parameters()) + list(fc_layer2.parameters()), lr=learning_rate)\n",
    "optimizer = Adam(list(rnn_layer1.parameters()) + list(fc_layer1.parameters()) + list(fc_layer2.parameters()), lr=learning_rate)\n",
    "\n",
    "# Lists to store accuracies and losses\n",
    "train_accuracy_list = []\n",
    "validation_accuracy_list = []\n",
    "train_loss_list = []\n",
    "\n",
    "# Training loop\n",
    "for epoch in range(epochs):\n",
    "    if epoch % 10 == 0:\n",
    "        learning_rate *= 0.9  # Learning rate scheduling\n",
    "\n",
    "    per_epoch_loss_list = []\n",
    "    for X, Y in train_data_loader:\n",
    "        # Forward pass through layers\n",
    "        out, _ = rnn_layer1(X)\n",
    "        out = dropout1(out)  # Apply dropout between RNN layers\n",
    "        # out, _ = rnn_layer2(out)\n",
    "        # out = dropout2(out)  # Apply dropout between RNN layers\n",
    "        out = out[:, -1, :]  # Get the last output of the sequence\n",
    "        out = relu(fc_layer1(out))  # Apply activation function after first fully connected layer\n",
    "        out = dropout_fc(out)  # Apply dropout between fully connected layers\n",
    "        out = fc_layer2(out)\n",
    "\n",
    "        # Regularization\n",
    "        # l2_term = sum([(w ** 2).sum() for w in list(rnn_layer1.parameters()) + list(rnn_layer2.parameters()) + list(fc_layer1.parameters()) + list(fc_layer2.parameters())])\n",
    "        # loss = loss_fn(out, Y) + landa * l2_term\n",
    "        loss = loss_fn(out, Y)\n",
    "\n",
    "        per_epoch_loss_list.append(loss.item())\n",
    "\n",
    "        # Backward pass and optimization\n",
    "        optimizer.zero_grad()\n",
    "        loss.backward()\n",
    "        optimizer.step()\n",
    "\n",
    "    # Evaluation on training and validation data\n",
    "    rnn_layer1.eval()\n",
    "    # rnn_layer2.eval()\n",
    "    fc_layer1.eval()\n",
    "    fc_layer2.eval()\n",
    "\n",
    "    with t.no_grad():\n",
    "        # Training data\n",
    "        train_correct, train_total = 0, 0\n",
    "        for X, Y in train_data_loader:\n",
    "            out, _ = rnn_layer1(X)\n",
    "            out = dropout1(out)  # Apply dropout between RNN layers\n",
    "            # out, _ = rnn_layer2(out)\n",
    "            # out = dropout2(out)  # Apply dropout between RNN layers\n",
    "            out = out[:, -1, :]\n",
    "            out = relu(fc_layer1(out))\n",
    "            out = dropout_fc(out)  # Apply dropout between fully connected layers\n",
    "            out = fc_layer2(out)\n",
    "            _, predicted = t.max(out.data, 1)\n",
    "            train_total += Y.size(0)\n",
    "            train_correct += (predicted == Y).sum().item()\n",
    "        train_accuracy = 100 * train_correct / train_total\n",
    "\n",
    "        # Validation data\n",
    "        validation_correct, validation_total = 0, 0\n",
    "        for X, Y in test_data_loader:\n",
    "            out, _ = rnn_layer1(X)\n",
    "            out = dropout1(out)  # Apply dropout between RNN layers\n",
    "            # out, _ = rnn_layer2(out)\n",
    "            # out = dropout2(out)  # Apply dropout between RNN layers\n",
    "            out = out[:, -1, :]\n",
    "            out = relu(fc_layer1(out))\n",
    "            out = dropout_fc(out)  # Apply dropout between fully connected layers\n",
    "            out = fc_layer2(out)\n",
    "            _, predicted = t.max(out.data, 1)\n",
    "            validation_total += Y.size(0)\n",
    "            validation_correct += (predicted == Y).sum().item()\n",
    "        validation_accuracy = 100 * validation_correct / validation_total\n",
    "\n",
    "        # Print accuracy for the current epoch\n",
    "        print(f'Epoch {epoch}/{epochs} ---> Train Accuracy: {train_accuracy}%, Validation Accuracy: {validation_accuracy}%')\n",
    "\n",
    "        # Append accuracy values to lists\n",
    "        train_accuracy_list.append(train_accuracy)\n",
    "        validation_accuracy_list.append(validation_accuracy)\n",
    "\n",
    "    # Calculate and append the average loss for the epoch\n",
    "    train_loss_list.append(sum(per_epoch_loss_list) / len(per_epoch_loss_list))\n",
    "\n",
    "    # Set the model back to train mode\n",
    "    rnn_layer1.train()\n",
    "    # rnn_layer2.train()\n",
    "    fc_layer1.train()\n",
    "    fc_layer2.train()\n"
   ]
  },
  {
   "cell_type": "code",
   "execution_count": 11,
   "metadata": {
    "colab": {
     "base_uri": "https://localhost:8080/",
     "height": 449
    },
    "id": "4-hW3shBbeqJ",
    "outputId": "59ed2f45-1e0c-43f7-f6d3-dfb8db3d68a1"
   },
   "outputs": [
    {
     "data": {
      "image/png": "[encoded data removed]",
      "text/plain": [
       "<Figure size 640x480 with 1 Axes>"
      ]
     },
     "metadata": {},
     "output_type": "display_data"
    }
   ],
   "source": [
    "# Plot training and validation accuracy over epochs\n",
    "plt.plot([i for i in range(len(train_accuracy_list))], train_accuracy_list, label=\"Train\")\n",
    "plt.plot([i for i in range(len(validation_accuracy_list))], validation_accuracy_list, label=\"Validation\")\n",
    "plt.legend(loc=\"upper left\")\n",
    "plt.xlabel('Epochs')\n",
    "plt.ylabel('Accuracy')\n",
    "plt.show()"
   ]
  },
  {
   "cell_type": "code",
   "execution_count": 12,
   "metadata": {},
   "outputs": [
    {
     "name": "stdout",
     "output_type": "stream",
     "text": [
      "Epoch 0/20 ---> Train Accuracy: 73.64485051486561%, Validation Accuracy: 16.40581330352152%\n",
      "Epoch 1/20 ---> Train Accuracy: 65.43353176248196%, Validation Accuracy: 11.961989938513137%\n",
      "Epoch 2/20 ---> Train Accuracy: 74.08095245991345%, Validation Accuracy: 20.09502515371716%\n",
      "Epoch 3/20 ---> Train Accuracy: 80.43842340026862%, Validation Accuracy: 30.74343208496367%\n",
      "Epoch 4/20 ---> Train Accuracy: 80.66891074004675%, Validation Accuracy: 30.04471771939631%\n",
      "Epoch 5/20 ---> Train Accuracy: 86.29843965045517%, Validation Accuracy: 37.64673001676915%\n",
      "Epoch 6/20 ---> Train Accuracy: 86.46094151591026%, Validation Accuracy: 35.326998323085526%\n",
      "Epoch 7/20 ---> Train Accuracy: 88.8188767473096%, Validation Accuracy: 43.48798211291224%\n",
      "Epoch 8/20 ---> Train Accuracy: 91.95615765997314%, Validation Accuracy: 45.500279485746226%\n",
      "Epoch 9/20 ---> Train Accuracy: 89.08418591539954%, Validation Accuracy: 46.22694242593628%\n",
      "Epoch 10/20 ---> Train Accuracy: 91.75883396620624%, Validation Accuracy: 44.68977082168809%\n",
      "Epoch 11/20 ---> Train Accuracy: 86.76936342381481%, Validation Accuracy: 36.47288988261599%\n",
      "Epoch 12/20 ---> Train Accuracy: 88.93163314374782%, Validation Accuracy: 43.48798211291224%\n",
      "Epoch 13/20 ---> Train Accuracy: 89.60982970467774%, Validation Accuracy: 42.28619340413639%\n",
      "Epoch 14/20 ---> Train Accuracy: 90.05256437892783%, Validation Accuracy: 48.71436556735606%\n",
      "Epoch 15/20 ---> Train Accuracy: 93.56459449151839%, Validation Accuracy: 46.730016769144775%\n",
      "Epoch 16/20 ---> Train Accuracy: 95.061933108926%, Validation Accuracy: 54.91894913359419%\n",
      "Epoch 17/20 ---> Train Accuracy: 90.70423002304874%, Validation Accuracy: 52.26383454443823%\n",
      "Epoch 18/20 ---> Train Accuracy: 94.74356210721807%, Validation Accuracy: 53.54946897708217%\n",
      "Epoch 19/20 ---> Train Accuracy: 93.40872535526556%, Validation Accuracy: 42.50978200111794%\n"
     ]
    }
   ],
   "source": [
    "import torch as t\n",
    "import torch.nn as nn\n",
    "from torch.optim import Adam\n",
    "from torch.utils.data import TensorDataset, DataLoader\n",
    "\n",
    "# Hyperparameters\n",
    "input_size = 12  # Number of features in each timestep\n",
    "hidden_size = 256  # Number of hidden units in RNN\n",
    "num_classes = len(np.unique(y_train_bal))  # Number of unique classes\n",
    "epochs = 20\n",
    "learning_rate = 0.001\n",
    "batch_size = 512\n",
    "landa = 0.001  # Regularization term (lambda)\n",
    "\n",
    "# Data preparation\n",
    "train_dataset = TensorDataset(t.tensor(X_train_bal, dtype=t.float32), t.tensor(y_train_bal, dtype=t.long))\n",
    "train_data_loader = DataLoader(train_dataset, batch_size=batch_size, shuffle=True)\n",
    "\n",
    "test_dataset = TensorDataset(t.tensor(X_test, dtype=t.float32), t.tensor(y_test, dtype=t.long))\n",
    "test_data_loader = DataLoader(test_dataset, batch_size=batch_size, shuffle=False)\n",
    "\n",
    "# RNN layers and additional fully connected layer\n",
    "rnn_layer1 = nn.LSTM(input_size, hidden_size, batch_first=True)\n",
    "dropout1 = nn.Dropout(0.5)  # Add dropout between RNN layers\n",
    "rnn_layer2 = nn.LSTM(hidden_size, hidden_size, batch_first=True)\n",
    "dropout2 = nn.Dropout(0.5)  # Add dropout between RNN layers\n",
    "fc_layer1 = nn.Linear(hidden_size, hidden_size)  # Additional fully connected layer\n",
    "fc_layer2 = nn.Linear(hidden_size, num_classes)  # Final output layer\n",
    "\n",
    "# Dropout layer\n",
    "dropout_fc = nn.Dropout(0.2)  # Add dropout between fully connected layers\n",
    "\n",
    "# Activation function\n",
    "relu = nn.ReLU()\n",
    "\n",
    "# Loss function and optimizer\n",
    "loss_fn = nn.CrossEntropyLoss()\n",
    "optimizer = Adam(list(rnn_layer1.parameters()) + list(rnn_layer2.parameters()) + list(fc_layer1.parameters()) + list(fc_layer2.parameters()), lr=learning_rate)\n",
    "#optimizer = Adam(list(rnn_layer1.parameters()) + list(fc_layer1.parameters()) + list(fc_layer2.parameters()), lr=learning_rate)\n",
    "\n",
    "# Lists to store accuracies and losses\n",
    "train_accuracy_list = []\n",
    "validation_accuracy_list = []\n",
    "train_loss_list = []\n",
    "\n",
    "# Training loop\n",
    "for epoch in range(epochs):\n",
    "    if epoch % 10 == 0:\n",
    "        learning_rate *= 0.9  # Learning rate scheduling\n",
    "\n",
    "    per_epoch_loss_list = []\n",
    "    for X, Y in train_data_loader:\n",
    "        # Forward pass through layers\n",
    "        out, _ = rnn_layer1(X)\n",
    "        out = dropout1(out)  # Apply dropout between RNN layers\n",
    "        out, _ = rnn_layer2(out)\n",
    "        out = dropout2(out)  # Apply dropout between RNN layers\n",
    "        out = out[:, -1, :]  # Get the last output of the sequence\n",
    "        out = relu(fc_layer1(out))  # Apply activation function after first fully connected layer\n",
    "        out = dropout_fc(out)  # Apply dropout between fully connected layers\n",
    "        out = fc_layer2(out)\n",
    "\n",
    "        # Regularization\n",
    "        l2_term = sum([(w ** 2).sum() for w in list(rnn_layer1.parameters()) + list(rnn_layer2.parameters()) + list(fc_layer1.parameters()) + list(fc_layer2.parameters())])\n",
    "        loss = loss_fn(out, Y) + landa * l2_term\n",
    "        #loss = loss_fn(out, Y)\n",
    "\n",
    "        per_epoch_loss_list.append(loss.item())\n",
    "\n",
    "        # Backward pass and optimization\n",
    "        optimizer.zero_grad()\n",
    "        loss.backward()\n",
    "        optimizer.step()\n",
    "\n",
    "    # Evaluation on training and validation data\n",
    "    rnn_layer1.eval()\n",
    "    rnn_layer2.eval()\n",
    "    fc_layer1.eval()\n",
    "    fc_layer2.eval()\n",
    "\n",
    "    with t.no_grad():\n",
    "        # Training data\n",
    "        train_correct, train_total = 0, 0\n",
    "        for X, Y in train_data_loader:\n",
    "            out, _ = rnn_layer1(X)\n",
    "            out = dropout1(out)  # Apply dropout between RNN layers\n",
    "            out, _ = rnn_layer2(out)\n",
    "            out = dropout2(out)  # Apply dropout between RNN layers\n",
    "            out = out[:, -1, :]\n",
    "            out = relu(fc_layer1(out))\n",
    "            out = dropout_fc(out)  # Apply dropout between fully connected layers\n",
    "            out = fc_layer2(out)\n",
    "            _, predicted = t.max(out.data, 1)\n",
    "            train_total += Y.size(0)\n",
    "            train_correct += (predicted == Y).sum().item()\n",
    "        train_accuracy = 100 * train_correct / train_total\n",
    "\n",
    "        # Validation data\n",
    "        validation_correct, validation_total = 0, 0\n",
    "        for X, Y in test_data_loader:\n",
    "            out, _ = rnn_layer1(X)\n",
    "            out = dropout1(out)  # Apply dropout between RNN layers\n",
    "            out, _ = rnn_layer2(out)\n",
    "            out = dropout2(out)  # Apply dropout between RNN layers\n",
    "            out = out[:, -1, :]\n",
    "            out = relu(fc_layer1(out))\n",
    "            out = dropout_fc(out)  # Apply dropout between fully connected layers\n",
    "            out = fc_layer2(out)\n",
    "            _, predicted = t.max(out.data, 1)\n",
    "            validation_total += Y.size(0)\n",
    "            validation_correct += (predicted == Y).sum().item()\n",
    "        validation_accuracy = 100 * validation_correct / validation_total\n",
    "\n",
    "        # Print accuracy for the current epoch\n",
    "        print(f'Epoch {epoch}/{epochs} ---> Train Accuracy: {train_accuracy}%, Validation Accuracy: {validation_accuracy}%')\n",
    "\n",
    "        # Append accuracy values to lists\n",
    "        train_accuracy_list.append(train_accuracy)\n",
    "        validation_accuracy_list.append(validation_accuracy)\n",
    "\n",
    "    # Calculate and append the average loss for the epoch\n",
    "    train_loss_list.append(sum(per_epoch_loss_list) / len(per_epoch_loss_list))\n",
    "\n",
    "    # Set the model back to train mode\n",
    "    rnn_layer1.train()\n",
    "    rnn_layer2.train()\n",
    "    fc_layer1.train()\n",
    "    fc_layer2.train()\n"
   ]
  }
 ],
 "metadata": {
  "colab": {
   "provenance": []
  },
  "kernelspec": {
   "display_name": "Python 3 (ipykernel)",
   "language": "python",
   "name": "python3"
  },
  "language_info": {
   "codemirror_mode": {
    "name": "ipython",
    "version": 3
   },
   "file_extension": ".py",
   "mimetype": "text/x-python",
   "name": "python",
   "nbconvert_exporter": "python",
   "pygments_lexer": "ipython3",
   "version": "3.11.5"
  }
 },
 "nbformat": 4,
 "nbformat_minor": 1
}
